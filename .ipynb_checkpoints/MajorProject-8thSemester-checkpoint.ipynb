{
 "cells": [
  {
   "cell_type": "raw",
   "metadata": {},
   "source": [
    "Importing Necessary Libraries"
   ]
  },
  {
   "cell_type": "code",
   "execution_count": 1,
   "metadata": {},
   "outputs": [],
   "source": [
    "import pandas as pd\n",
    "import numpy as np\n",
    "import re\n",
    "import matplotlib.pyplot as plt\n",
    "import os\n",
    "import collections\n",
    "import seaborn as sns\n",
    "import string"
   ]
  },
  {
   "cell_type": "raw",
   "metadata": {},
   "source": [
    "Importing the Dataset"
   ]
  },
  {
   "cell_type": "code",
   "execution_count": 2,
   "metadata": {},
   "outputs": [
    {
     "name": "stderr",
     "output_type": "stream",
     "text": [
      "[nltk_data] Downloading package punkt to /home/eshwar/nltk_data...\n",
      "[nltk_data]   Package punkt is already up-to-date!\n"
     ]
    },
    {
     "data": {
      "text/plain": [
       "True"
      ]
     },
     "execution_count": 2,
     "metadata": {},
     "output_type": "execute_result"
    }
   ],
   "source": [
    "import nltk\n",
    "nltk.download('punkt')"
   ]
  },
  {
   "cell_type": "code",
   "execution_count": 3,
   "metadata": {},
   "outputs": [
    {
     "name": "stderr",
     "output_type": "stream",
     "text": [
      "[nltk_data] Downloading package stopwords to /home/eshwar/nltk_data...\n",
      "[nltk_data]   Package stopwords is already up-to-date!\n"
     ]
    },
    {
     "data": {
      "text/plain": [
       "True"
      ]
     },
     "execution_count": 3,
     "metadata": {},
     "output_type": "execute_result"
    }
   ],
   "source": [
    "import nltk\n",
    "nltk.download('stopwords')"
   ]
  },
  {
   "cell_type": "code",
   "execution_count": 4,
   "metadata": {},
   "outputs": [
    {
     "data": {
      "text/html": [
       "<div>\n",
       "<style scoped>\n",
       "    .dataframe tbody tr th:only-of-type {\n",
       "        vertical-align: middle;\n",
       "    }\n",
       "\n",
       "    .dataframe tbody tr th {\n",
       "        vertical-align: top;\n",
       "    }\n",
       "\n",
       "    .dataframe thead th {\n",
       "        text-align: right;\n",
       "    }\n",
       "</style>\n",
       "<table border=\"1\" class=\"dataframe\">\n",
       "  <thead>\n",
       "    <tr style=\"text-align: right;\">\n",
       "      <th></th>\n",
       "      <th>created_at</th>\n",
       "      <th>hashtags</th>\n",
       "      <th>favorite_count</th>\n",
       "      <th>id</th>\n",
       "      <th>lang</th>\n",
       "      <th>place</th>\n",
       "      <th>retweet_count</th>\n",
       "      <th>text</th>\n",
       "      <th>tweet_url</th>\n",
       "      <th>user_screen_name</th>\n",
       "      <th>user_description</th>\n",
       "      <th>user_favourites_count</th>\n",
       "      <th>user_followers_count</th>\n",
       "      <th>user_friends_count</th>\n",
       "      <th>user_listed_count</th>\n",
       "      <th>user_location</th>\n",
       "      <th>user_name</th>\n",
       "      <th>user_screen_name.1</th>\n",
       "      <th>user_statuses_count</th>\n",
       "    </tr>\n",
       "  </thead>\n",
       "  <tbody>\n",
       "    <tr>\n",
       "      <th>0</th>\n",
       "      <td>Wed Mar 25 06:20:02 +0000 2020</td>\n",
       "      <td>NaN</td>\n",
       "      <td>0</td>\n",
       "      <td>1242697733175220000</td>\n",
       "      <td>en</td>\n",
       "      <td>Pune, India</td>\n",
       "      <td>0</td>\n",
       "      <td>Meditation and mindfulness tips for coping wit...</td>\n",
       "      <td>https://twitter.com/ShalomFloat/status/1242697...</td>\n",
       "      <td>ShalomFloat</td>\n",
       "      <td>Shalom float spa is the first dedicated float ...</td>\n",
       "      <td>252</td>\n",
       "      <td>382</td>\n",
       "      <td>97</td>\n",
       "      <td>24</td>\n",
       "      <td>India</td>\n",
       "      <td>Shalom Float Spa</td>\n",
       "      <td>ShalomFloat</td>\n",
       "      <td>1770</td>\n",
       "    </tr>\n",
       "    <tr>\n",
       "      <th>1</th>\n",
       "      <td>Wed Mar 25 06:36:25 +0000 2020</td>\n",
       "      <td>NaN</td>\n",
       "      <td>0</td>\n",
       "      <td>1242701857253980000</td>\n",
       "      <td>en</td>\n",
       "      <td>Gandhinagar, India</td>\n",
       "      <td>0</td>\n",
       "      <td>Contribute to INDIA FIGHTS CORONA @ Gandhinaga...</td>\n",
       "      <td>https://twitter.com/prakashkalal/status/124270...</td>\n",
       "      <td>prakashkalal</td>\n",
       "      <td>NaN</td>\n",
       "      <td>693</td>\n",
       "      <td>175</td>\n",
       "      <td>107</td>\n",
       "      <td>0</td>\n",
       "      <td>Gandhinagar, India</td>\n",
       "      <td>prks7</td>\n",
       "      <td>prakashkalal</td>\n",
       "      <td>73</td>\n",
       "    </tr>\n",
       "    <tr>\n",
       "      <th>2</th>\n",
       "      <td>Wed Mar 25 06:18:32 +0000 2020</td>\n",
       "      <td>NaN</td>\n",
       "      <td>0</td>\n",
       "      <td>1242697356249880000</td>\n",
       "      <td>en</td>\n",
       "      <td>Bidhan Nagar, India</td>\n",
       "      <td>0</td>\n",
       "      <td>@DelhiPolice @DCPEastDelhi @msisodia @AamAadmi...</td>\n",
       "      <td>https://twitter.com/Bhartendulkar/status/12426...</td>\n",
       "      <td>Bhartendulkar</td>\n",
       "      <td>Senior Media Analyst @Indianpac | Ex Sr Report...</td>\n",
       "      <td>5273</td>\n",
       "      <td>609</td>\n",
       "      <td>2239</td>\n",
       "      <td>7</td>\n",
       "      <td>Kolkata, India</td>\n",
       "      <td>Bhartendu Sharma</td>\n",
       "      <td>Bhartendulkar</td>\n",
       "      <td>6002</td>\n",
       "    </tr>\n",
       "    <tr>\n",
       "      <th>3</th>\n",
       "      <td>Wed Mar 25 06:05:46 +0000 2020</td>\n",
       "      <td>SSC_UFM_MAT_KARONA Corona UFM</td>\n",
       "      <td>9</td>\n",
       "      <td>1242694142242650000</td>\n",
       "      <td>en</td>\n",
       "      <td>Maharashtra, India</td>\n",
       "      <td>19</td>\n",
       "      <td>#SSC_UFM_MAT_KARONA\\n#Corona is slow poison #U...</td>\n",
       "      <td>https://twitter.com/patilkiii/status/124269414...</td>\n",
       "      <td>patilkiii</td>\n",
       "      <td>Ab khushi de ke aazma le khuda, In ghamon se t...</td>\n",
       "      <td>1744</td>\n",
       "      <td>259</td>\n",
       "      <td>786</td>\n",
       "      <td>0</td>\n",
       "      <td>Pune, India</td>\n",
       "      <td>ùï¨ùñáùñçùñéùñëùñÜùñòùñç ùïæùñöùñì...</td>\n",
       "      <td>patilkiii</td>\n",
       "      <td>1387</td>\n",
       "    </tr>\n",
       "    <tr>\n",
       "      <th>4</th>\n",
       "      <td>Wed Mar 25 06:31:10 +0000 2020</td>\n",
       "      <td>Corona pritamkumarmurari Voice</td>\n",
       "      <td>0</td>\n",
       "      <td>1242700536752700000</td>\n",
       "      <td>en</td>\n",
       "      <td>Bokaro Steel City, India</td>\n",
       "      <td>0</td>\n",
       "      <td>https://t.co/P7eQiq8tFa Mata Di \\nDoston ise #...</td>\n",
       "      <td>https://twitter.com/SINGERMurariPa1/status/124...</td>\n",
       "      <td>SINGERMurariPa1</td>\n",
       "      <td>Singing,Dancing,Acting,Entertainment</td>\n",
       "      <td>4</td>\n",
       "      <td>2</td>\n",
       "      <td>163</td>\n",
       "      <td>0</td>\n",
       "      <td>‡§¨‡•ã‡§ï‡§æ‡§∞‡•ã ‡§∏‡•ç‡§ü‡•Ä‡§≤ ‡§∏‡§ø‡§ü‡•...</td>\n",
       "      <td>SINGER=Murari Pathak</td>\n",
       "      <td>SINGERMurariPa1</td>\n",
       "      <td>13</td>\n",
       "    </tr>\n",
       "  </tbody>\n",
       "</table>\n",
       "</div>"
      ],
      "text/plain": [
       "                       created_at                        hashtags  \\\n",
       "0  Wed Mar 25 06:20:02 +0000 2020                             NaN   \n",
       "1  Wed Mar 25 06:36:25 +0000 2020                             NaN   \n",
       "2  Wed Mar 25 06:18:32 +0000 2020                             NaN   \n",
       "3  Wed Mar 25 06:05:46 +0000 2020   SSC_UFM_MAT_KARONA Corona UFM   \n",
       "4  Wed Mar 25 06:31:10 +0000 2020  Corona pritamkumarmurari Voice   \n",
       "\n",
       "   favorite_count                   id lang                     place  \\\n",
       "0               0  1242697733175220000   en               Pune, India   \n",
       "1               0  1242701857253980000   en        Gandhinagar, India   \n",
       "2               0  1242697356249880000   en       Bidhan Nagar, India   \n",
       "3               9  1242694142242650000   en        Maharashtra, India   \n",
       "4               0  1242700536752700000   en  Bokaro Steel City, India   \n",
       "\n",
       "   retweet_count                                               text  \\\n",
       "0              0  Meditation and mindfulness tips for coping wit...   \n",
       "1              0  Contribute to INDIA FIGHTS CORONA @ Gandhinaga...   \n",
       "2              0  @DelhiPolice @DCPEastDelhi @msisodia @AamAadmi...   \n",
       "3             19  #SSC_UFM_MAT_KARONA\\n#Corona is slow poison #U...   \n",
       "4              0  https://t.co/P7eQiq8tFa Mata Di \\nDoston ise #...   \n",
       "\n",
       "                                           tweet_url user_screen_name  \\\n",
       "0  https://twitter.com/ShalomFloat/status/1242697...      ShalomFloat   \n",
       "1  https://twitter.com/prakashkalal/status/124270...     prakashkalal   \n",
       "2  https://twitter.com/Bhartendulkar/status/12426...    Bhartendulkar   \n",
       "3  https://twitter.com/patilkiii/status/124269414...        patilkiii   \n",
       "4  https://twitter.com/SINGERMurariPa1/status/124...  SINGERMurariPa1   \n",
       "\n",
       "                                    user_description  user_favourites_count  \\\n",
       "0  Shalom float spa is the first dedicated float ...                    252   \n",
       "1                                                NaN                    693   \n",
       "2  Senior Media Analyst @Indianpac | Ex Sr Report...                   5273   \n",
       "3  Ab khushi de ke aazma le khuda, In ghamon se t...                   1744   \n",
       "4               Singing,Dancing,Acting,Entertainment                      4   \n",
       "\n",
       "   user_followers_count  user_friends_count  user_listed_count  \\\n",
       "0                   382                  97                 24   \n",
       "1                   175                 107                  0   \n",
       "2                   609                2239                  7   \n",
       "3                   259                 786                  0   \n",
       "4                     2                 163                  0   \n",
       "\n",
       "                                       user_location  \\\n",
       "0                                              India   \n",
       "1                                 Gandhinagar, India   \n",
       "2                                     Kolkata, India   \n",
       "3                                        Pune, India   \n",
       "4  ‡§¨‡•ã‡§ï‡§æ‡§∞‡•ã ‡§∏‡•ç‡§ü‡•Ä‡§≤ ‡§∏‡§ø‡§ü‡•...   \n",
       "\n",
       "                                           user_name user_screen_name.1  \\\n",
       "0                                   Shalom Float Spa        ShalomFloat   \n",
       "1                                              prks7       prakashkalal   \n",
       "2                                   Bhartendu Sharma      Bhartendulkar   \n",
       "3  ùï¨ùñáùñçùñéùñëùñÜùñòùñç ùïæùñöùñì...          patilkiii   \n",
       "4                               SINGER=Murari Pathak    SINGERMurariPa1   \n",
       "\n",
       "   user_statuses_count  \n",
       "0                 1770  \n",
       "1                   73  \n",
       "2                 6002  \n",
       "3                 1387  \n",
       "4                   13  "
      ]
     },
     "execution_count": 4,
     "metadata": {},
     "output_type": "execute_result"
    }
   ],
   "source": [
    "df = pd.read_csv(\"Tweeter_Data_IN.csv\")\n",
    "df.head(5)"
   ]
  },
  {
   "cell_type": "code",
   "execution_count": null,
   "metadata": {},
   "outputs": [],
   "source": []
  },
  {
   "cell_type": "code",
   "execution_count": 5,
   "metadata": {},
   "outputs": [
    {
     "data": {
      "text/plain": [
       "(44179, 19)"
      ]
     },
     "execution_count": 5,
     "metadata": {},
     "output_type": "execute_result"
    }
   ],
   "source": [
    "df.shape"
   ]
  },
  {
   "cell_type": "raw",
   "metadata": {},
   "source": [
    "Needed columns for the Project are 'username','date','text'"
   ]
  },
  {
   "cell_type": "code",
   "execution_count": 6,
   "metadata": {},
   "outputs": [
    {
     "data": {
      "text/html": [
       "<div>\n",
       "<style scoped>\n",
       "    .dataframe tbody tr th:only-of-type {\n",
       "        vertical-align: middle;\n",
       "    }\n",
       "\n",
       "    .dataframe tbody tr th {\n",
       "        vertical-align: top;\n",
       "    }\n",
       "\n",
       "    .dataframe thead th {\n",
       "        text-align: right;\n",
       "    }\n",
       "</style>\n",
       "<table border=\"1\" class=\"dataframe\">\n",
       "  <thead>\n",
       "    <tr style=\"text-align: right;\">\n",
       "      <th></th>\n",
       "      <th>user_name</th>\n",
       "      <th>created_at</th>\n",
       "      <th>text</th>\n",
       "      <th>place</th>\n",
       "    </tr>\n",
       "  </thead>\n",
       "  <tbody>\n",
       "    <tr>\n",
       "      <th>0</th>\n",
       "      <td>Shalom Float Spa</td>\n",
       "      <td>Wed Mar 25 06:20:02 +0000 2020</td>\n",
       "      <td>Meditation and mindfulness tips for coping wit...</td>\n",
       "      <td>Pune, India</td>\n",
       "    </tr>\n",
       "    <tr>\n",
       "      <th>1</th>\n",
       "      <td>prks7</td>\n",
       "      <td>Wed Mar 25 06:36:25 +0000 2020</td>\n",
       "      <td>Contribute to INDIA FIGHTS CORONA @ Gandhinaga...</td>\n",
       "      <td>Gandhinagar, India</td>\n",
       "    </tr>\n",
       "    <tr>\n",
       "      <th>2</th>\n",
       "      <td>Bhartendu Sharma</td>\n",
       "      <td>Wed Mar 25 06:18:32 +0000 2020</td>\n",
       "      <td>@DelhiPolice @DCPEastDelhi @msisodia @AamAadmi...</td>\n",
       "      <td>Bidhan Nagar, India</td>\n",
       "    </tr>\n",
       "    <tr>\n",
       "      <th>3</th>\n",
       "      <td>ùï¨ùñáùñçùñéùñëùñÜùñòùñç ùïæùñöùñì...</td>\n",
       "      <td>Wed Mar 25 06:05:46 +0000 2020</td>\n",
       "      <td>#SSC_UFM_MAT_KARONA\\n#Corona is slow poison #U...</td>\n",
       "      <td>Maharashtra, India</td>\n",
       "    </tr>\n",
       "    <tr>\n",
       "      <th>4</th>\n",
       "      <td>SINGER=Murari Pathak</td>\n",
       "      <td>Wed Mar 25 06:31:10 +0000 2020</td>\n",
       "      <td>https://t.co/P7eQiq8tFa Mata Di \\nDoston ise #...</td>\n",
       "      <td>Bokaro Steel City, India</td>\n",
       "    </tr>\n",
       "  </tbody>\n",
       "</table>\n",
       "</div>"
      ],
      "text/plain": [
       "                                           user_name  \\\n",
       "0                                   Shalom Float Spa   \n",
       "1                                              prks7   \n",
       "2                                   Bhartendu Sharma   \n",
       "3  ùï¨ùñáùñçùñéùñëùñÜùñòùñç ùïæùñöùñì...   \n",
       "4                               SINGER=Murari Pathak   \n",
       "\n",
       "                       created_at  \\\n",
       "0  Wed Mar 25 06:20:02 +0000 2020   \n",
       "1  Wed Mar 25 06:36:25 +0000 2020   \n",
       "2  Wed Mar 25 06:18:32 +0000 2020   \n",
       "3  Wed Mar 25 06:05:46 +0000 2020   \n",
       "4  Wed Mar 25 06:31:10 +0000 2020   \n",
       "\n",
       "                                                text                     place  \n",
       "0  Meditation and mindfulness tips for coping wit...               Pune, India  \n",
       "1  Contribute to INDIA FIGHTS CORONA @ Gandhinaga...        Gandhinagar, India  \n",
       "2  @DelhiPolice @DCPEastDelhi @msisodia @AamAadmi...       Bidhan Nagar, India  \n",
       "3  #SSC_UFM_MAT_KARONA\\n#Corona is slow poison #U...        Maharashtra, India  \n",
       "4  https://t.co/P7eQiq8tFa Mata Di \\nDoston ise #...  Bokaro Steel City, India  "
      ]
     },
     "execution_count": 6,
     "metadata": {},
     "output_type": "execute_result"
    }
   ],
   "source": [
    "needed_columns = ['user_name', 'created_at','text','place']\n",
    "df = df[needed_columns]\n",
    "df.head()"
   ]
  },
  {
   "cell_type": "raw",
   "metadata": {},
   "source": [
    "Change Types such as created_at: date_time to date"
   ]
  },
  {
   "cell_type": "code",
   "execution_count": 7,
   "metadata": {},
   "outputs": [
    {
     "data": {
      "text/html": [
       "<div>\n",
       "<style scoped>\n",
       "    .dataframe tbody tr th:only-of-type {\n",
       "        vertical-align: middle;\n",
       "    }\n",
       "\n",
       "    .dataframe tbody tr th {\n",
       "        vertical-align: top;\n",
       "    }\n",
       "\n",
       "    .dataframe thead th {\n",
       "        text-align: right;\n",
       "    }\n",
       "</style>\n",
       "<table border=\"1\" class=\"dataframe\">\n",
       "  <thead>\n",
       "    <tr style=\"text-align: right;\">\n",
       "      <th></th>\n",
       "      <th>user_name</th>\n",
       "      <th>created_at</th>\n",
       "      <th>text</th>\n",
       "      <th>place</th>\n",
       "    </tr>\n",
       "  </thead>\n",
       "  <tbody>\n",
       "    <tr>\n",
       "      <th>0</th>\n",
       "      <td>14720</td>\n",
       "      <td>2020-03-25</td>\n",
       "      <td>Meditation and mindfulness tips for coping wit...</td>\n",
       "      <td>Pune, India</td>\n",
       "    </tr>\n",
       "    <tr>\n",
       "      <th>1</th>\n",
       "      <td>19364</td>\n",
       "      <td>2020-03-25</td>\n",
       "      <td>Contribute to INDIA FIGHTS CORONA @ Gandhinaga...</td>\n",
       "      <td>Gandhinagar, India</td>\n",
       "    </tr>\n",
       "    <tr>\n",
       "      <th>2</th>\n",
       "      <td>3239</td>\n",
       "      <td>2020-03-25</td>\n",
       "      <td>@DelhiPolice @DCPEastDelhi @msisodia @AamAadmi...</td>\n",
       "      <td>Bidhan Nagar, India</td>\n",
       "    </tr>\n",
       "    <tr>\n",
       "      <th>3</th>\n",
       "      <td>21357</td>\n",
       "      <td>2020-03-25</td>\n",
       "      <td>#SSC_UFM_MAT_KARONA\\n#Corona is slow poison #U...</td>\n",
       "      <td>Maharashtra, India</td>\n",
       "    </tr>\n",
       "    <tr>\n",
       "      <th>4</th>\n",
       "      <td>13527</td>\n",
       "      <td>2020-03-25</td>\n",
       "      <td>https://t.co/P7eQiq8tFa Mata Di \\nDoston ise #...</td>\n",
       "      <td>Bokaro Steel City, India</td>\n",
       "    </tr>\n",
       "  </tbody>\n",
       "</table>\n",
       "</div>"
      ],
      "text/plain": [
       "  user_name  created_at                                               text  \\\n",
       "0     14720  2020-03-25  Meditation and mindfulness tips for coping wit...   \n",
       "1     19364  2020-03-25  Contribute to INDIA FIGHTS CORONA @ Gandhinaga...   \n",
       "2      3239  2020-03-25  @DelhiPolice @DCPEastDelhi @msisodia @AamAadmi...   \n",
       "3     21357  2020-03-25  #SSC_UFM_MAT_KARONA\\n#Corona is slow poison #U...   \n",
       "4     13527  2020-03-25  https://t.co/P7eQiq8tFa Mata Di \\nDoston ise #...   \n",
       "\n",
       "                      place  \n",
       "0               Pune, India  \n",
       "1        Gandhinagar, India  \n",
       "2       Bidhan Nagar, India  \n",
       "3        Maharashtra, India  \n",
       "4  Bokaro Steel City, India  "
      ]
     },
     "execution_count": 7,
     "metadata": {},
     "output_type": "execute_result"
    }
   ],
   "source": [
    "df.user_name = df.user_name.astype('category')\n",
    "df.user_name = df.user_name.cat.codes.astype(str)\n",
    "\n",
    "df.created_at= pd.to_datetime(df.created_at).dt.date\n",
    "df.head()"
   ]
  },
  {
   "cell_type": "raw",
   "metadata": {},
   "source": [
    "Cleaning the Text"
   ]
  },
  {
   "cell_type": "code",
   "execution_count": 8,
   "metadata": {},
   "outputs": [],
   "source": [
    "texts = df['text']"
   ]
  },
  {
   "cell_type": "code",
   "execution_count": 9,
   "metadata": {},
   "outputs": [
    {
     "data": {
      "text/plain": [
       "0    Meditation and mindfulness tips for coping wit...\n",
       "1    Contribute to INDIA FIGHTS CORONA @ Gandhinaga...\n",
       "2    @DelhiPolice @DCPEastDelhi @msisodia @AamAadmi...\n",
       "3    #SSC_UFM_MAT_KARONA\\n#Corona is slow poison #U...\n",
       "4     Mata Di \\nDoston ise #Corona Ke Tarah Faila D...\n",
       "Name: text, dtype: object"
      ]
     },
     "execution_count": 9,
     "metadata": {},
     "output_type": "execute_result"
    }
   ],
   "source": [
    "remove_url = lambda x: re.sub(r\"https\\S+\",\"\",str(x))\n",
    "text_en_lr = texts.apply(remove_url)\n",
    "text_en_lr.head()"
   ]
  },
  {
   "cell_type": "raw",
   "metadata": {},
   "source": [
    "Converting  all tweets to lowercase"
   ]
  },
  {
   "cell_type": "code",
   "execution_count": 10,
   "metadata": {},
   "outputs": [
    {
     "data": {
      "text/plain": [
       "0    meditation and mindfulness tips for coping wit...\n",
       "1    contribute to india fights corona @ gandhinaga...\n",
       "2    @delhipolice @dcpeastdelhi @msisodia @aamaadmi...\n",
       "3    #ssc_ufm_mat_karona\\n#corona is slow poison #u...\n",
       "4     mata di \\ndoston ise #corona ke tarah faila d...\n",
       "Name: text, dtype: object"
      ]
     },
     "execution_count": 10,
     "metadata": {},
     "output_type": "execute_result"
    }
   ],
   "source": [
    "text_en_lr_lc = text_en_lr.apply(lambda x: x.lower())\n",
    "text_en_lr_lc.head()"
   ]
  },
  {
   "cell_type": "raw",
   "metadata": {},
   "source": [
    "Remove punctuations"
   ]
  },
  {
   "cell_type": "code",
   "execution_count": 11,
   "metadata": {},
   "outputs": [
    {
     "data": {
      "text/plain": [
       "0    meditation and mindfulness tips for coping wit...\n",
       "1    contribute to india fights corona  gandhinagar...\n",
       "2    delhipolice dcpeastdelhi msisodia aamaadmipart...\n",
       "3    sscufmmatkarona\\ncorona is slow poison ufm is ...\n",
       "4     mata di \\ndoston ise corona ke tarah faila do...\n",
       "Name: text, dtype: object"
      ]
     },
     "execution_count": 11,
     "metadata": {},
     "output_type": "execute_result"
    }
   ],
   "source": [
    "text_en_lr_lc_pr = text_en_lr_lc.apply(lambda x: x.translate(str.maketrans('','',string.punctuation)))\n",
    "text_en_lr_lc_pr.head()"
   ]
  },
  {
   "cell_type": "raw",
   "metadata": {},
   "source": [
    "Remove stopwords"
   ]
  },
  {
   "cell_type": "code",
   "execution_count": 12,
   "metadata": {},
   "outputs": [],
   "source": [
    "from nltk.corpus import stopwords\n",
    "from nltk.tokenize import word_tokenize\n"
   ]
  },
  {
   "cell_type": "code",
   "execution_count": 13,
   "metadata": {},
   "outputs": [],
   "source": [
    "stop_words = set(stopwords.words('english'))"
   ]
  },
  {
   "cell_type": "code",
   "execution_count": 14,
   "metadata": {},
   "outputs": [],
   "source": [
    "en_stops = set(stop_words)"
   ]
  },
  {
   "cell_type": "code",
   "execution_count": null,
   "metadata": {},
   "outputs": [],
   "source": []
  },
  {
   "cell_type": "code",
   "execution_count": 15,
   "metadata": {},
   "outputs": [],
   "source": [
    "word_tokens = []\n",
    "for i in range(0,len(text_en_lr_lc_pr)):\n",
    "    word_tokens.append(word_tokenize(text_en_lr_lc_pr[i]))"
   ]
  },
  {
   "cell_type": "code",
   "execution_count": 16,
   "metadata": {},
   "outputs": [],
   "source": [
    "text_en_lr_lc_pr_sr = []\n"
   ]
  },
  {
   "cell_type": "code",
   "execution_count": 17,
   "metadata": {},
   "outputs": [
    {
     "data": {
      "text/plain": [
       "[]"
      ]
     },
     "execution_count": 17,
     "metadata": {},
     "output_type": "execute_result"
    }
   ],
   "source": [
    "text_en_lr_lc_pr_sr"
   ]
  },
  {
   "cell_type": "code",
   "execution_count": 18,
   "metadata": {},
   "outputs": [],
   "source": [
    "for temp in word_tokens:\n",
    "    words = []\n",
    "    words.append(temp)\n",
    "    for word_temp in words:\n",
    "        for temp_word in word_temp:\n",
    "            if temp_word not in en_stops:\n",
    "                text_en_lr_lc_pr_sr.append(temp_word)\n",
    "                #print(str(temp_word))\n",
    "    "
   ]
  },
  {
   "cell_type": "code",
   "execution_count": 19,
   "metadata": {},
   "outputs": [
    {
     "data": {
      "text/plain": [
       "['meditation',\n",
       " 'mindfulness',\n",
       " 'tips',\n",
       " 'coping',\n",
       " 'corona',\n",
       " 'virus',\n",
       " 'pandemicas',\n",
       " 'people',\n",
       " 'become',\n",
       " 'anxious',\n",
       " 'selfquarantine',\n",
       " 'homeexperts',\n",
       " 'recommend',\n",
       " 'mindfulness',\n",
       " 'meditation',\n",
       " 'practice',\n",
       " 'proven',\n",
       " 'to‚ä¶',\n",
       " 'contribute',\n",
       " 'india',\n",
       " 'fights',\n",
       " 'corona',\n",
       " 'gandhinagar',\n",
       " 'gujarat',\n",
       " 'delhipolice',\n",
       " 'dcpeastdelhi',\n",
       " 'msisodia',\n",
       " 'aamaadmiparty',\n",
       " 'arvindkejriwal',\n",
       " 'sir']"
      ]
     },
     "execution_count": 19,
     "metadata": {},
     "output_type": "execute_result"
    }
   ],
   "source": [
    "word_list = [word for line in text_en_lr_lc_pr_sr for word in line.split()]\n",
    "word_list[:30]"
   ]
  },
  {
   "cell_type": "code",
   "execution_count": 20,
   "metadata": {},
   "outputs": [],
   "source": [
    "counts = collections.Counter(word_list).most_common(50)\n",
    "counts_df=pd.DataFrame(counts)\n",
    "counts_df\n",
    "counts_df.columns = ['word', 'frequency']"
   ]
  },
  {
   "cell_type": "code",
   "execution_count": 21,
   "metadata": {},
   "outputs": [
    {
     "data": {
      "image/png": "[encoded data removed]",
      "text/plain": [
       "<Figure size 864x864 with 1 Axes>"
      ]
     },
     "metadata": {
      "needs_background": "light"
     },
     "output_type": "display_data"
    }
   ],
   "source": [
    "fig,ax = plt.subplots(figsize = (12,12))\n",
    "plt.grid()\n",
    "plt.title(\"Word Count Most Common\")\n",
    "ax = sns.barplot(y=\"word\",x=\"frequency\",ax=ax,data=counts_df)\n",
    "plt.savefig('word_count_frequent.png')"
   ]
  },
  {
   "cell_type": "raw",
   "metadata": {},
   "source": [
    "Places"
   ]
  },
  {
   "cell_type": "code",
   "execution_count": 22,
   "metadata": {},
   "outputs": [],
   "source": [
    "places = df['place']\n",
    "places = list(places)"
   ]
  },
  {
   "cell_type": "code",
   "execution_count": 23,
   "metadata": {},
   "outputs": [],
   "source": [
    "cnt_places = collections.Counter(places).most_common(100)"
   ]
  },
  {
   "cell_type": "code",
   "execution_count": 24,
   "metadata": {},
   "outputs": [],
   "source": [
    "cnt_places_df=pd.DataFrame(cnt_places)\n",
    "cnt_places_df\n",
    "cnt_places_df.columns = ['word', 'frequency']"
   ]
  },
  {
   "cell_type": "markdown",
   "metadata": {},
   "source": [
    "Most Common 100 Places"
   ]
  },
  {
   "cell_type": "code",
   "execution_count": 25,
   "metadata": {},
   "outputs": [
    {
     "data": {
      "image/png": "[encoded data removed]",
      "text/plain": [
       "<Figure size 1584x1584 with 1 Axes>"
      ]
     },
     "metadata": {
      "needs_background": "light"
     },
     "output_type": "display_data"
    }
   ],
   "source": [
    "fig2,ax2 = plt.subplots(figsize = (22,22))\n",
    "plt.grid()\n",
    "plt.title(\"Most Number of Tweets\")\n",
    "ax2 = sns.barplot(y=\"word\",x=\"frequency\",ax=ax2,data=cnt_places_df)\n",
    "plt.savefig('MostNumberofTweets.png')"
   ]
  },
  {
   "cell_type": "code",
   "execution_count": 26,
   "metadata": {},
   "outputs": [],
   "source": [
    "#! pip3 install nltk"
   ]
  },
  {
   "cell_type": "code",
   "execution_count": 27,
   "metadata": {},
   "outputs": [],
   "source": [
    "#! pip3 install textblob"
   ]
  },
  {
   "cell_type": "code",
   "execution_count": 28,
   "metadata": {},
   "outputs": [],
   "source": [
    "from textblob import TextBlob"
   ]
  },
  {
   "cell_type": "code",
   "execution_count": 29,
   "metadata": {},
   "outputs": [],
   "source": [
    "import nltk"
   ]
  },
  {
   "cell_type": "code",
   "execution_count": 30,
   "metadata": {},
   "outputs": [
    {
     "name": "stderr",
     "output_type": "stream",
     "text": [
      "[nltk_data] Downloading package brown to /home/eshwar/nltk_data...\n",
      "[nltk_data]   Package brown is already up-to-date!\n"
     ]
    },
    {
     "data": {
      "text/plain": [
       "True"
      ]
     },
     "execution_count": 30,
     "metadata": {},
     "output_type": "execute_result"
    }
   ],
   "source": [
    "nltk.download('brown')"
   ]
  },
  {
   "cell_type": "code",
   "execution_count": 31,
   "metadata": {},
   "outputs": [
    {
     "name": "stderr",
     "output_type": "stream",
     "text": [
      "[nltk_data] Downloading package averaged_perceptron_tagger to\n",
      "[nltk_data]     /home/eshwar/nltk_data...\n",
      "[nltk_data]   Package averaged_perceptron_tagger is already up-to-\n",
      "[nltk_data]       date!\n"
     ]
    },
    {
     "data": {
      "text/plain": [
       "True"
      ]
     },
     "execution_count": 31,
     "metadata": {},
     "output_type": "execute_result"
    }
   ],
   "source": [
    "nltk.download('averaged_perceptron_tagger')"
   ]
  },
  {
   "cell_type": "code",
   "execution_count": 32,
   "metadata": {},
   "outputs": [
    {
     "data": {
      "text/plain": [
       "'     Sentiment Analysis '"
      ]
     },
     "execution_count": 32,
     "metadata": {},
     "output_type": "execute_result"
    }
   ],
   "source": [
    "'''     Sentiment Analysis '''"
   ]
  },
  {
   "cell_type": "code",
   "execution_count": 41,
   "metadata": {},
   "outputs": [],
   "source": [
    "from textblob.sentiments import NaiveBayesAnalyzer"
   ]
  },
  {
   "cell_type": "code",
   "execution_count": 33,
   "metadata": {},
   "outputs": [
    {
     "data": {
      "text/plain": [
       "0        meditation and mindfulness tips for coping wit...\n",
       "1        contribute to india fights corona  gandhinagar...\n",
       "2        delhipolice dcpeastdelhi msisodia aamaadmipart...\n",
       "3        sscufmmatkarona\\ncorona is slow poison ufm is ...\n",
       "4         mata di \\ndoston ise corona ke tarah faila do...\n",
       "                               ...                        \n",
       "44174    hardareaallowance for hcws during corona pande...\n",
       "44175    zeenews sudhirchaudhary but who did not had co...\n",
       "44176                                        no surprises \n",
       "44177    coronavirus lockdown industries hit hard in su...\n",
       "44178                                    live with corona \n",
       "Name: text, Length: 44179, dtype: object"
      ]
     },
     "execution_count": 33,
     "metadata": {},
     "output_type": "execute_result"
    }
   ],
   "source": [
    "text_en_lr_lc_pr"
   ]
  },
  {
   "cell_type": "code",
   "execution_count": 53,
   "metadata": {},
   "outputs": [],
   "source": [
    "import random"
   ]
  },
  {
   "cell_type": "code",
   "execution_count": 96,
   "metadata": {},
   "outputs": [],
   "source": [
    "selected_text = random.choice(text_en_lr_lc_pr)"
   ]
  },
  {
   "cell_type": "code",
   "execution_count": 97,
   "metadata": {},
   "outputs": [
    {
     "name": "stdout",
     "output_type": "stream",
     "text": [
      "bbcsarika see i am also telling this right from the beginning of this covid19 pandemic we dont  need war heads now there 43 countries totally dependent for food over others world should come together to work in this sector to produce organic food which automatically refuce medicine\n"
     ]
    }
   ],
   "source": [
    "print(selected_text)"
   ]
  },
  {
   "cell_type": "code",
   "execution_count": 98,
   "metadata": {},
   "outputs": [
    {
     "data": {
      "text/plain": [
       "' Deep Learning '"
      ]
     },
     "execution_count": 98,
     "metadata": {},
     "output_type": "execute_result"
    }
   ],
   "source": [
    "''' Deep Learning '''"
   ]
  },
  {
   "cell_type": "code",
   "execution_count": 99,
   "metadata": {},
   "outputs": [],
   "source": [
    "analysis = TextBlob(selected_text).sentiment"
   ]
  },
  {
   "cell_type": "code",
   "execution_count": 100,
   "metadata": {},
   "outputs": [
    {
     "name": "stdout",
     "output_type": "stream",
     "text": [
      "Sentiment(polarity=0.14285714285714285, subjectivity=0.6428571428571428)\n",
      "Positive\n"
     ]
    }
   ],
   "source": [
    "print(analysis)\n",
    "if(analysis.polarity < 0.5):\n",
    "    print(\"Positive\")\n",
    "    \n",
    "else:\n",
    "    print(\"Negative\")"
   ]
  },
  {
   "cell_type": "markdown",
   "metadata": {},
   "source": [
    "Using Naive Bayes classifier Analyzer"
   ]
  },
  {
   "cell_type": "code",
   "execution_count": 101,
   "metadata": {},
   "outputs": [
    {
     "name": "stdout",
     "output_type": "stream",
     "text": [
      "Sentiment(classification='pos', p_pos=0.8077662921379491, p_neg=0.19223370786205585)\n"
     ]
    }
   ],
   "source": [
    "blob_object = TextBlob(selected_text, analyzer=NaiveBayesAnalyzer())\n",
    "analysis_2 = blob_object.sentiment\n",
    "print(analysis_2)\n",
    "\n",
    "positive = analysis_2.p_pos * 100\n",
    "negative = analysis_2.p_neg * 100"
   ]
  },
  {
   "cell_type": "code",
   "execution_count": 102,
   "metadata": {},
   "outputs": [],
   "source": [
    "# Graph of Positivity vs Negativity\n"
   ]
  },
  {
   "cell_type": "code",
   "execution_count": 111,
   "metadata": {},
   "outputs": [
    {
     "data": {
      "image/png": "[encoded data removed]",
      "text/plain": [
       "<Figure size 432x288 with 1 Axes>"
      ]
     },
     "metadata": {
      "needs_background": "light"
     },
     "output_type": "display_data"
    }
   ],
   "source": [
    "plt.bar(\"positive\",positive,color='b')\n",
    "plt.bar(\"Negative\",negative,color='r')\n",
    "plt.show()"
   ]
  },
  {
   "cell_type": "code",
   "execution_count": null,
   "metadata": {},
   "outputs": [],
   "source": []
  },
  {
   "cell_type": "code",
   "execution_count": null,
   "metadata": {
    "scrolled": true
   },
   "outputs": [],
   "source": []
  },
  {
   "cell_type": "code",
   "execution_count": null,
   "metadata": {},
   "outputs": [],
   "source": []
  },
  {
   "cell_type": "code",
   "execution_count": null,
   "metadata": {},
   "outputs": [],
   "source": []
  }
 ],
 "metadata": {
  "kernelspec": {
   "display_name": "Python 3",
   "language": "python",
   "name": "python3"
  },
  "language_info": {
   "codemirror_mode": {
    "name": "ipython",
    "version": 3
   },
   "file_extension": ".py",
   "mimetype": "text/x-python",
   "name": "python",
   "nbconvert_exporter": "python",
   "pygments_lexer": "ipython3",
   "version": "3.6.9"
  }
 },
 "nbformat": 4,
 "nbformat_minor": 4
}
