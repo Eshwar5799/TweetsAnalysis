{
 "cells": [
  {
   "cell_type": "code",
   "execution_count": 143,
   "metadata": {},
   "outputs": [],
   "source": [
    "import pandas as pd\n",
    "import numpy as np\n",
    "import re\n",
    "import matplotlib.pyplot as plt\n",
    "import gensim\n",
    "from nltk.tokenize.treebank import TreebankWordDetokenizer\n",
    "\n",
    "from numpy import array\n",
    "from keras.preprocessing.text import one_hot\n",
    "from keras.preprocessing.sequence import pad_sequences\n",
    "from keras.models import Sequential\n",
    "from keras.layers.core import Activation, Dropout, Dense\n",
    "from keras.layers import Flatten\n",
    "from keras.layers import GlobalMaxPooling1D\n",
    "from keras.layers.embeddings import Embedding\n",
    "from sklearn.model_selection import train_test_split\n",
    "from keras.preprocessing.text import Tokenizer"
   ]
  },
  {
   "cell_type": "code",
   "execution_count": 145,
   "metadata": {},
   "outputs": [
    {
     "data": {
      "text/html": [
       "<div>\n",
       "<style scoped>\n",
       "    .dataframe tbody tr th:only-of-type {\n",
       "        vertical-align: middle;\n",
       "    }\n",
       "\n",
       "    .dataframe tbody tr th {\n",
       "        vertical-align: top;\n",
       "    }\n",
       "\n",
       "    .dataframe thead th {\n",
       "        text-align: right;\n",
       "    }\n",
       "</style>\n",
       "<table border=\"1\" class=\"dataframe\">\n",
       "  <thead>\n",
       "    <tr style=\"text-align: right;\">\n",
       "      <th></th>\n",
       "      <th>Unnamed: 0</th>\n",
       "      <th>User-Created</th>\n",
       "      <th>Tweet</th>\n",
       "      <th>Geo-location</th>\n",
       "      <th>verified</th>\n",
       "    </tr>\n",
       "  </thead>\n",
       "  <tbody>\n",
       "    <tr>\n",
       "      <th>0</th>\n",
       "      <td>0</td>\n",
       "      <td>Thu Mar 19 19:52:18 +0000 2020</td>\n",
       "      <td>RT @ebs_the_great: A lot of you would actually...</td>\n",
       "      <td>London, England</td>\n",
       "      <td>False</td>\n",
       "    </tr>\n",
       "    <tr>\n",
       "      <th>1</th>\n",
       "      <td>1</td>\n",
       "      <td>Thu Mar 19 19:52:17 +0000 2020</td>\n",
       "      <td>RT @iam_erhnehst: Everything was fine in the w...</td>\n",
       "      <td>Close to America</td>\n",
       "      <td>False</td>\n",
       "    </tr>\n",
       "    <tr>\n",
       "      <th>2</th>\n",
       "      <td>2</td>\n",
       "      <td>Thu Mar 19 19:52:18 +0000 2020</td>\n",
       "      <td>RT @chandlerriggs: here’s a deleted scene from...</td>\n",
       "      <td>NaN</td>\n",
       "      <td>False</td>\n",
       "    </tr>\n",
       "    <tr>\n",
       "      <th>3</th>\n",
       "      <td>3</td>\n",
       "      <td>Thu Mar 19 19:52:15 +0000 2020</td>\n",
       "      <td>RT @RealSaavedra: Good.\\n\\nIt came from China.</td>\n",
       "      <td>Sydney, New South Wales</td>\n",
       "      <td>False</td>\n",
       "    </tr>\n",
       "    <tr>\n",
       "      <th>4</th>\n",
       "      <td>4</td>\n",
       "      <td>Thu Mar 19 19:52:16 +0000 2020</td>\n",
       "      <td>RT @TattooedFemdom: My dick is Bigger than Cor...</td>\n",
       "      <td>NaN</td>\n",
       "      <td>False</td>\n",
       "    </tr>\n",
       "    <tr>\n",
       "      <th>...</th>\n",
       "      <td>...</td>\n",
       "      <td>...</td>\n",
       "      <td>...</td>\n",
       "      <td>...</td>\n",
       "      <td>...</td>\n",
       "    </tr>\n",
       "    <tr>\n",
       "      <th>30926</th>\n",
       "      <td>30926</td>\n",
       "      <td>Thu Mar 19 20:16:59 +0000 2020</td>\n",
       "      <td>RT @d_psycho_guru: I just tested positive to t...</td>\n",
       "      <td>eug</td>\n",
       "      <td>False</td>\n",
       "    </tr>\n",
       "    <tr>\n",
       "      <th>30927</th>\n",
       "      <td>30927</td>\n",
       "      <td>Thu Mar 19 20:16:58 +0000 2020</td>\n",
       "      <td>RT @Xhakaed: Corona is a timely reminder of ho...</td>\n",
       "      <td>Buffalo</td>\n",
       "      <td>False</td>\n",
       "    </tr>\n",
       "    <tr>\n",
       "      <th>30928</th>\n",
       "      <td>30928</td>\n",
       "      <td>Thu Mar 19 20:17:01 +0000 2020</td>\n",
       "      <td>RT @psychdr100: Confirmed Corona virus cases i...</td>\n",
       "      <td>USA😍</td>\n",
       "      <td>False</td>\n",
       "    </tr>\n",
       "    <tr>\n",
       "      <th>30929</th>\n",
       "      <td>30929</td>\n",
       "      <td>Thu Mar 19 20:17:00 +0000 2020</td>\n",
       "      <td>It REALLY is not hard to talk about Corona wit...</td>\n",
       "      <td>NaN</td>\n",
       "      <td>False</td>\n",
       "    </tr>\n",
       "    <tr>\n",
       "      <th>30930</th>\n",
       "      <td>30930</td>\n",
       "      <td>Thu Mar 19 20:17:00 +0000 2020</td>\n",
       "      <td>RT @MABIN2_: Corona please. We are tired, we g...</td>\n",
       "      <td>Kampala, Uganda</td>\n",
       "      <td>False</td>\n",
       "    </tr>\n",
       "  </tbody>\n",
       "</table>\n",
       "<p>30931 rows × 5 columns</p>\n",
       "</div>"
      ],
      "text/plain": [
       "       Unnamed: 0                    User-Created  \\\n",
       "0               0  Thu Mar 19 19:52:18 +0000 2020   \n",
       "1               1  Thu Mar 19 19:52:17 +0000 2020   \n",
       "2               2  Thu Mar 19 19:52:18 +0000 2020   \n",
       "3               3  Thu Mar 19 19:52:15 +0000 2020   \n",
       "4               4  Thu Mar 19 19:52:16 +0000 2020   \n",
       "...           ...                             ...   \n",
       "30926       30926  Thu Mar 19 20:16:59 +0000 2020   \n",
       "30927       30927  Thu Mar 19 20:16:58 +0000 2020   \n",
       "30928       30928  Thu Mar 19 20:17:01 +0000 2020   \n",
       "30929       30929  Thu Mar 19 20:17:00 +0000 2020   \n",
       "30930       30930  Thu Mar 19 20:17:00 +0000 2020   \n",
       "\n",
       "                                                   Tweet  \\\n",
       "0      RT @ebs_the_great: A lot of you would actually...   \n",
       "1      RT @iam_erhnehst: Everything was fine in the w...   \n",
       "2      RT @chandlerriggs: here’s a deleted scene from...   \n",
       "3         RT @RealSaavedra: Good.\\n\\nIt came from China.   \n",
       "4      RT @TattooedFemdom: My dick is Bigger than Cor...   \n",
       "...                                                  ...   \n",
       "30926  RT @d_psycho_guru: I just tested positive to t...   \n",
       "30927  RT @Xhakaed: Corona is a timely reminder of ho...   \n",
       "30928  RT @psychdr100: Confirmed Corona virus cases i...   \n",
       "30929  It REALLY is not hard to talk about Corona wit...   \n",
       "30930  RT @MABIN2_: Corona please. We are tired, we g...   \n",
       "\n",
       "                  Geo-location  verified  \n",
       "0              London, England     False  \n",
       "1             Close to America     False  \n",
       "2                          NaN     False  \n",
       "3      Sydney, New South Wales     False  \n",
       "4                          NaN     False  \n",
       "...                        ...       ...  \n",
       "30926                      eug     False  \n",
       "30927                  Buffalo     False  \n",
       "30928                     USA😍     False  \n",
       "30929                      NaN     False  \n",
       "30930          Kampala, Uganda     False  \n",
       "\n",
       "[30931 rows x 5 columns]"
      ]
     },
     "execution_count": 145,
     "metadata": {},
     "output_type": "execute_result"
    }
   ],
   "source": [
    "tweet_reviews = pd.read_csv(\"DataSet-MajorProject/FinalCleanedDB\")\n",
    "tweet_reviews.isnull().values.any()\n",
    "tweet_reviews\n"
   ]
  },
  {
   "cell_type": "code",
   "execution_count": 146,
   "metadata": {},
   "outputs": [],
   "source": [
    "Texts = tweet_reviews['Tweet']"
   ]
  },
  {
   "cell_type": "code",
   "execution_count": 147,
   "metadata": {},
   "outputs": [],
   "source": [
    "Sentiments_file = pd.read_csv(\"DataSet-MajorProject/corona_tweets_01_only_sentiments - corona_tweets_01 - corona_tweets_01_only_sentiments - corona_tweets_01.csv\")"
   ]
  },
  {
   "cell_type": "code",
   "execution_count": 148,
   "metadata": {},
   "outputs": [],
   "source": [
    "Sentiments_file=Sentiments_file.drop(Sentiments_file.columns[[0]],axis=1)"
   ]
  },
  {
   "cell_type": "code",
   "execution_count": 149,
   "metadata": {},
   "outputs": [],
   "source": [
    "Sentiments = list(Sentiments_file)"
   ]
  },
  {
   "cell_type": "code",
   "execution_count": 150,
   "metadata": {},
   "outputs": [],
   "source": [
    "for i in range(0,30931):\n",
    "    Sentiments.append(Sentiments_file['0.3571428571'][i])"
   ]
  },
  {
   "cell_type": "code",
   "execution_count": 151,
   "metadata": {},
   "outputs": [],
   "source": [
    "val=Sentiments[-1]"
   ]
  },
  {
   "cell_type": "code",
   "execution_count": 152,
   "metadata": {},
   "outputs": [],
   "source": [
    "Sentiments.remove(val)\n",
    "Sentiments[0] = float(Sentiments[0])"
   ]
  },
  {
   "cell_type": "code",
   "execution_count": 153,
   "metadata": {},
   "outputs": [
    {
     "data": {
      "text/plain": [
       "[0.3571428571,\n",
       " 0.1160714286,\n",
       " -0.05,\n",
       " -0.7142857143000001,\n",
       " 0.7,\n",
       " 0.0,\n",
       " 0.0,\n",
       " 0.2166666667,\n",
       " -0.2,\n",
       " 0.0,\n",
       " -0.65,\n",
       " 0.0,\n",
       " 0.0,\n",
       " -0.5,\n",
       " -0.3528571429,\n",
       " 0.0,\n",
       " -0.78,\n",
       " 0.0,\n",
       " 0.0,\n",
       " 0.3,\n",
       " 0.0,\n",
       " -0.0625,\n",
       " 0.6,\n",
       " 0.0,\n",
       " 0.2,\n",
       " 0.0,\n",
       " -0.7142857143000001,\n",
       " 0.0,\n",
       " 0.0,\n",
       " 0.0,\n",
       " 0.0,\n",
       " 0.5,\n",
       " -0.5,\n",
       " 0.0,\n",
       " 0.5,\n",
       " 0.0,\n",
       " 0.025,\n",
       " 0.0,\n",
       " 0.0,\n",
       " 0.2,\n",
       " -0.5666666667,\n",
       " 0.0,\n",
       " 0.0,\n",
       " 0.0,\n",
       " -0.02222222222,\n",
       " -0.35,\n",
       " -0.1,\n",
       " 0.0,\n",
       " 0.13636363640000002,\n",
       " -0.125,\n",
       " -0.5,\n",
       " 0.0,\n",
       " 0.0,\n",
       " 0.0,\n",
       " -0.1625,\n",
       " 0.0,\n",
       " -0.04166666667,\n",
       " 0.0,\n",
       " 0.0,\n",
       " 0.0,\n",
       " -0.05,\n",
       " 0.5,\n",
       " 0.5,\n",
       " 0.13636363640000002,\n",
       " 0.0,\n",
       " 0.0,\n",
       " 0.0,\n",
       " -0.3528571429,\n",
       " 0.0875,\n",
       " 0.0,\n",
       " 0.4166666667,\n",
       " 0.0,\n",
       " 0.0,\n",
       " -0.3571428571,\n",
       " -0.15,\n",
       " 0.0,\n",
       " 0.4,\n",
       " -0.5,\n",
       " -0.5,\n",
       " -0.7,\n",
       " 0.3571428571,\n",
       " 0.0,\n",
       " -0.3528571429,\n",
       " 0.25,\n",
       " -0.1333333333,\n",
       " 0.0,\n",
       " 0.0,\n",
       " -0.1625,\n",
       " 0.5,\n",
       " 0.0,\n",
       " -0.3528571429,\n",
       " 0.6666666667,\n",
       " 0.0,\n",
       " -0.0625,\n",
       " -0.1666666667,\n",
       " 0.35,\n",
       " 0.0,\n",
       " -0.0625,\n",
       " 0.5,\n",
       " 0.0,\n",
       " -0.3528571429,\n",
       " 0.15,\n",
       " 0.0,\n",
       " 0.0,\n",
       " -0.30416666670000003,\n",
       " 0.5,\n",
       " 0.0,\n",
       " -0.26309523809999996,\n",
       " 0.3681818182,\n",
       " -0.07142857142999999,\n",
       " -0.7142857143000001,\n",
       " -0.75,\n",
       " -0.5,\n",
       " 0.0,\n",
       " -0.6,\n",
       " 0.0,\n",
       " 0.6875,\n",
       " 0.4,\n",
       " -0.5,\n",
       " 0.1666666667,\n",
       " 0.0,\n",
       " -0.2824074074,\n",
       " 0.0,\n",
       " -0.5,\n",
       " 0.575,\n",
       " 0.3571428571,\n",
       " 0.0,\n",
       " 0.5,\n",
       " 0.0,\n",
       " 0.0,\n",
       " 0.0,\n",
       " -0.3333333333,\n",
       " 0.25,\n",
       " 0.13636363640000002,\n",
       " 0.0,\n",
       " 0.05,\n",
       " 0.0,\n",
       " 0.0,\n",
       " 0.35,\n",
       " 0.17534722219999999,\n",
       " 0.5,\n",
       " 0.0,\n",
       " 0.0,\n",
       " 0.0,\n",
       " -0.1625,\n",
       " 0.0,\n",
       " -0.65,\n",
       " 0.0,\n",
       " -0.3333333333,\n",
       " -0.1,\n",
       " 0.0,\n",
       " 0.5,\n",
       " -0.7142857143000001,\n",
       " 0.0,\n",
       " 0.09666666667000001,\n",
       " 0.04722222222,\n",
       " -0.3333333333,\n",
       " 0.25,\n",
       " 0.2130681818,\n",
       " 0.5291666667,\n",
       " -0.4,\n",
       " 0.025,\n",
       " 0.15,\n",
       " 0.0,\n",
       " 0.5,\n",
       " 0.5,\n",
       " 0.37575757579999997,\n",
       " -0.0625,\n",
       " -0.1479166667,\n",
       " 0.5,\n",
       " 0.0,\n",
       " 0.0,\n",
       " -0.5,\n",
       " 0.0,\n",
       " 0.0,\n",
       " 0.0,\n",
       " 0.5,\n",
       " 0.0,\n",
       " 0.0,\n",
       " 0.5,\n",
       " 0.5,\n",
       " 0.0,\n",
       " 0.0,\n",
       " 0.0,\n",
       " 0.75,\n",
       " 0.5,\n",
       " -0.2380952381,\n",
       " 0.0,\n",
       " 0.0,\n",
       " -0.5,\n",
       " 0.225,\n",
       " 0.21428571429999999,\n",
       " -0.0625,\n",
       " 0.0,\n",
       " -0.7,\n",
       " -0.3541666667,\n",
       " 0.0,\n",
       " -0.125,\n",
       " -0.1666666667,\n",
       " 0.054545454550000004,\n",
       " 0.3333333333,\n",
       " 0.0,\n",
       " 0.0,\n",
       " 0.04722222222,\n",
       " 0.5,\n",
       " 0.0,\n",
       " -0.5,\n",
       " -0.7142857143000001,\n",
       " -0.5,\n",
       " 0.0,\n",
       " 0.3333333333,\n",
       " 0.0,\n",
       " -0.2,\n",
       " -0.1333333333,\n",
       " 0.07142857142999999,\n",
       " 0.1666666667,\n",
       " 0.0,\n",
       " 0.0,\n",
       " 0.0,\n",
       " 0.1,\n",
       " 0.0,\n",
       " 0.0,\n",
       " -0.7142857143000001,\n",
       " 0.1,\n",
       " 0.0,\n",
       " -0.5,\n",
       " -0.3528571429,\n",
       " 0.0,\n",
       " 0.0,\n",
       " 0.0,\n",
       " 0.0,\n",
       " 0.45,\n",
       " 0.3,\n",
       " 0.0,\n",
       " 0.5,\n",
       " -0.1338636364,\n",
       " -0.4,\n",
       " -0.0625,\n",
       " -0.7,\n",
       " 0.0,\n",
       " 0.03333333333,\n",
       " -0.15,\n",
       " -0.05,\n",
       " -0.125,\n",
       " 0.0,\n",
       " -0.3528571429,\n",
       " 0.0,\n",
       " -0.35,\n",
       " 0.5,\n",
       " 0.0,\n",
       " 0.0619047619,\n",
       " 0.0,\n",
       " 0.3571428571,\n",
       " 0.0,\n",
       " 0.01666666667,\n",
       " 0.0,\n",
       " 0.0,\n",
       " 0.04722222222,\n",
       " 0.0,\n",
       " -0.05,\n",
       " 0.2,\n",
       " -0.1625,\n",
       " 0.0,\n",
       " 0.0,\n",
       " 0.5,\n",
       " 0.0,\n",
       " 0.06818181818,\n",
       " 0.0,\n",
       " 0.0,\n",
       " 0.0,\n",
       " 0.0,\n",
       " 0.0,\n",
       " -0.35,\n",
       " 0.0,\n",
       " 0.0,\n",
       " 0.0,\n",
       " 0.0,\n",
       " 0.0,\n",
       " -0.05,\n",
       " 0.0,\n",
       " 0.5,\n",
       " -0.6,\n",
       " -0.1,\n",
       " -0.25,\n",
       " -0.3333333333,\n",
       " 0.0,\n",
       " 0.0,\n",
       " 0.2520833333,\n",
       " -0.1625,\n",
       " -0.15,\n",
       " -0.7142857143000001,\n",
       " 0.52,\n",
       " -0.4,\n",
       " -0.78125,\n",
       " 0.5,\n",
       " 0.0,\n",
       " 0.3,\n",
       " 0.0,\n",
       " 0.0,\n",
       " -0.5,\n",
       " -0.23333333329999997,\n",
       " 0.8,\n",
       " -0.7142857143000001,\n",
       " 0.06875,\n",
       " -0.1818181818,\n",
       " 0.0,\n",
       " -0.5,\n",
       " -0.1625,\n",
       " 0.0,\n",
       " 0.0,\n",
       " 0.0,\n",
       " -0.1625,\n",
       " 0.2,\n",
       " 0.0,\n",
       " 0.0,\n",
       " -0.025,\n",
       " -0.6,\n",
       " 0.0,\n",
       " 0.05,\n",
       " -0.33809523810000003,\n",
       " 0.0,\n",
       " 0.0,\n",
       " -0.7142857143000001,\n",
       " 0.3128472222,\n",
       " 0.2,\n",
       " -0.3,\n",
       " 0.0,\n",
       " 0.65,\n",
       " 0.375,\n",
       " -0.2234375,\n",
       " 0.0,\n",
       " -0.5,\n",
       " -0.15,\n",
       " 0.0,\n",
       " 0.0,\n",
       " 0.0,\n",
       " -0.4,\n",
       " -0.1666666667,\n",
       " 0.0,\n",
       " 0.0,\n",
       " 0.0,\n",
       " 0.0,\n",
       " 0.0,\n",
       " 0.5,\n",
       " 0.0,\n",
       " 0.2,\n",
       " 0.2,\n",
       " -0.5,\n",
       " 0.0,\n",
       " -0.4,\n",
       " -0.1625,\n",
       " -0.3,\n",
       " 0.1,\n",
       " -0.7142857143000001,\n",
       " 0.0,\n",
       " -0.04924242424,\n",
       " 0.0,\n",
       " 0.0,\n",
       " 0.6,\n",
       " -0.2125,\n",
       " 0.0,\n",
       " 0.0,\n",
       " -0.5,\n",
       " 0.0,\n",
       " 0.75,\n",
       " -1.0,\n",
       " 0.0,\n",
       " 0.0,\n",
       " -0.7142857143000001,\n",
       " 0.0,\n",
       " 0.0,\n",
       " 0.0,\n",
       " 0.13636363640000002,\n",
       " -0.7142857143000001,\n",
       " 0.0,\n",
       " -0.3528571429,\n",
       " 0.0,\n",
       " 0.0,\n",
       " -0.2824074074,\n",
       " 0.0,\n",
       " -0.1625,\n",
       " -0.1625,\n",
       " 0.35,\n",
       " 0.2,\n",
       " 0.0,\n",
       " -0.25,\n",
       " -0.35,\n",
       " 0.0,\n",
       " 0.0,\n",
       " 0.0,\n",
       " 0.0,\n",
       " 0.5,\n",
       " -0.02222222222,\n",
       " 0.0,\n",
       " 0.0,\n",
       " -0.1666666667,\n",
       " 0.0,\n",
       " 0.0,\n",
       " 0.5,\n",
       " 0.0,\n",
       " 0.5,\n",
       " -0.5,\n",
       " 0.2,\n",
       " 0.0,\n",
       " 0.0,\n",
       " 0.5,\n",
       " -0.32222222219999996,\n",
       " -0.7142857143000001,\n",
       " 0.5,\n",
       " -0.4,\n",
       " 0.5,\n",
       " 0.0,\n",
       " 0.0,\n",
       " 0.0,\n",
       " 0.0,\n",
       " -0.375,\n",
       " 0.0,\n",
       " 0.0,\n",
       " 0.0,\n",
       " 0.0,\n",
       " 0.0,\n",
       " -0.5,\n",
       " -0.025,\n",
       " 0.0,\n",
       " 0.0,\n",
       " 0.0,\n",
       " -0.07142857142999999,\n",
       " 0.15454545449999998,\n",
       " -0.2375,\n",
       " 0.0,\n",
       " 0.0,\n",
       " 0.5194444443999999,\n",
       " 0.1,\n",
       " 0.5,\n",
       " 0.0,\n",
       " 0.0,\n",
       " 0.5,\n",
       " 0.6,\n",
       " 0.0,\n",
       " -0.05,\n",
       " 0.1340909091,\n",
       " 0.0,\n",
       " 0.0,\n",
       " -0.1333333333,\n",
       " 0.0,\n",
       " 0.2488888889,\n",
       " 0.0,\n",
       " 0.0,\n",
       " 0.1,\n",
       " 0.0,\n",
       " 0.0,\n",
       " 0.0,\n",
       " -0.1625,\n",
       " 0.0,\n",
       " 0.0,\n",
       " 0.0,\n",
       " 0.8,\n",
       " 0.0,\n",
       " -0.8,\n",
       " 0.0,\n",
       " 0.25,\n",
       " 0.0,\n",
       " 0.0,\n",
       " 0.2,\n",
       " 0.8,\n",
       " 0.0,\n",
       " -0.3528571429,\n",
       " -0.01031746032,\n",
       " -0.3,\n",
       " 0.0,\n",
       " 0.4,\n",
       " 0.021145124720000002,\n",
       " 0.0,\n",
       " -0.5,\n",
       " 0.3571428571,\n",
       " 0.0,\n",
       " 0.0,\n",
       " 0.5,\n",
       " 0.0,\n",
       " -0.1625,\n",
       " -0.1625,\n",
       " -0.4,\n",
       " 0.5,\n",
       " 0.0,\n",
       " 0.0,\n",
       " 0.2,\n",
       " 0.0,\n",
       " 0.2857142857,\n",
       " 0.0,\n",
       " -0.5,\n",
       " 0.0,\n",
       " 0.0,\n",
       " 0.0,\n",
       " 0.0,\n",
       " 0.5,\n",
       " 0.0,\n",
       " -0.5666666667,\n",
       " 0.0,\n",
       " -0.15,\n",
       " 0.0,\n",
       " 0.5,\n",
       " 0.1666666667,\n",
       " 0.0,\n",
       " 0.8,\n",
       " -0.4,\n",
       " 0.0,\n",
       " 0.1,\n",
       " -0.4,\n",
       " 0.0,\n",
       " 0.8,\n",
       " -0.4,\n",
       " 0.1,\n",
       " -0.5,\n",
       " 0.0,\n",
       " -0.4,\n",
       " 0.0,\n",
       " 0.0,\n",
       " 0.3,\n",
       " 0.0,\n",
       " 0.14285714289999998,\n",
       " -0.3,\n",
       " 0.0,\n",
       " 0.0,\n",
       " 0.0,\n",
       " -0.4,\n",
       " -0.3528571429,\n",
       " -0.05,\n",
       " 0.0,\n",
       " 0.3555555556,\n",
       " 0.0,\n",
       " -0.4,\n",
       " 0.8,\n",
       " 0.0,\n",
       " -0.1,\n",
       " -0.175,\n",
       " -0.5,\n",
       " -0.375,\n",
       " 0.36666666670000003,\n",
       " 0.8,\n",
       " 0.5,\n",
       " -0.5,\n",
       " 0.3571428571,\n",
       " 0.18333333329999998,\n",
       " 0.0,\n",
       " 0.0,\n",
       " 0.0,\n",
       " -0.4,\n",
       " 0.1928571429,\n",
       " -0.1625,\n",
       " 0.5,\n",
       " 0.0,\n",
       " 0.0,\n",
       " -0.3333333333,\n",
       " 0.1074074074,\n",
       " -0.5,\n",
       " 0.0,\n",
       " 0.2,\n",
       " 0.0,\n",
       " -0.08375,\n",
       " 0.0,\n",
       " 0.0,\n",
       " -0.8,\n",
       " 0.625,\n",
       " 0.0,\n",
       " 0.1,\n",
       " 0.3,\n",
       " 0.0,\n",
       " 0.0,\n",
       " 0.25,\n",
       " 0.0,\n",
       " 0.0,\n",
       " -0.3333333333,\n",
       " -0.3528571429,\n",
       " -0.5,\n",
       " -0.3333333333,\n",
       " -0.4,\n",
       " -0.5,\n",
       " 0.0,\n",
       " 0.0,\n",
       " 0.0,\n",
       " 0.0,\n",
       " 0.0,\n",
       " 0.0,\n",
       " -0.3185185185,\n",
       " 0.0,\n",
       " 0.0,\n",
       " 0.0,\n",
       " 0.3928571429,\n",
       " -0.2,\n",
       " 0.0,\n",
       " -0.25,\n",
       " 0.0,\n",
       " 0.0,\n",
       " 0.06666666667,\n",
       " 0.7033333333,\n",
       " -0.5,\n",
       " 0.1,\n",
       " 0.0,\n",
       " 0.2,\n",
       " -0.8,\n",
       " -0.3,\n",
       " -0.5,\n",
       " 0.0,\n",
       " 0.0,\n",
       " 0.103125,\n",
       " 0.0,\n",
       " 0.75,\n",
       " 0.8,\n",
       " -0.7142857143000001,\n",
       " 0.0,\n",
       " 0.0,\n",
       " 0.3,\n",
       " 0.3,\n",
       " 0.0,\n",
       " -0.43333333329999996,\n",
       " 0.5,\n",
       " 0.0,\n",
       " 0.0,\n",
       " 0.0,\n",
       " 0.0,\n",
       " 0.0,\n",
       " 0.078125,\n",
       " -0.1625,\n",
       " 0.09166666667000001,\n",
       " 0.13636363640000002,\n",
       " 0.22222222219999999,\n",
       " 0.0,\n",
       " 0.0,\n",
       " 0.5,\n",
       " -0.4,\n",
       " 0.5,\n",
       " -0.0625,\n",
       " 0.2,\n",
       " -0.1,\n",
       " 0.0,\n",
       " 0.0,\n",
       " 0.0,\n",
       " -1.0,\n",
       " 0.25,\n",
       " 0.0,\n",
       " 0.09375,\n",
       " -0.3333333333,\n",
       " 0.0,\n",
       " -0.2,\n",
       " -0.1625,\n",
       " -0.25,\n",
       " 0.0,\n",
       " 0.2,\n",
       " 0.15,\n",
       " 0.005555555556,\n",
       " 0.375,\n",
       " -0.7142857143000001,\n",
       " 0.0,\n",
       " -0.4,\n",
       " 0.0,\n",
       " 0.0,\n",
       " -0.3528571429,\n",
       " 0.06666666667,\n",
       " -0.125,\n",
       " -0.7142857143000001,\n",
       " 0.8,\n",
       " 0.0,\n",
       " 0.5,\n",
       " -0.35,\n",
       " -0.7142857143000001,\n",
       " 0.7,\n",
       " -0.5,\n",
       " 0.0,\n",
       " 0.0,\n",
       " -0.04285714286,\n",
       " -0.3,\n",
       " -0.1,\n",
       " 0.5,\n",
       " 0.0,\n",
       " 0.0,\n",
       " 0.1875,\n",
       " 0.0,\n",
       " 0.059523809520000005,\n",
       " -0.4,\n",
       " 0.0,\n",
       " 0.3571428571,\n",
       " 0.0,\n",
       " 0.0,\n",
       " 0.0,\n",
       " 0.0,\n",
       " 0.4107142857,\n",
       " 0.3571428571,\n",
       " 0.0,\n",
       " 0.0,\n",
       " 0.0,\n",
       " 0.0,\n",
       " 0.5,\n",
       " 0.0,\n",
       " 0.1065340909,\n",
       " 0.25,\n",
       " 0.04722222222,\n",
       " 0.0,\n",
       " 0.0,\n",
       " 0.36666666670000003,\n",
       " 0.5,\n",
       " 0.0,\n",
       " -0.1625,\n",
       " 0.0,\n",
       " 0.0,\n",
       " -0.1625,\n",
       " 0.0,\n",
       " 0.4,\n",
       " 0.0,\n",
       " -0.1625,\n",
       " -0.05,\n",
       " 0.1625,\n",
       " 0.06666666667,\n",
       " 0.7,\n",
       " 0.21060606059999998,\n",
       " 0.0,\n",
       " 0.0,\n",
       " 0.5,\n",
       " 0.6,\n",
       " 0.0,\n",
       " 0.5,\n",
       " 0.0,\n",
       " 0.25,\n",
       " -0.1625,\n",
       " -0.5,\n",
       " 0.0,\n",
       " -0.3333333333,\n",
       " 0.0,\n",
       " -0.2,\n",
       " -0.3821428571,\n",
       " 0.3572727273,\n",
       " 0.0,\n",
       " 0.0,\n",
       " -0.3528571429,\n",
       " 0.1359375,\n",
       " 0.0,\n",
       " 0.5,\n",
       " 0.5,\n",
       " 0.1065340909,\n",
       " -0.4,\n",
       " -0.0625,\n",
       " 0.08333333333,\n",
       " 0.0,\n",
       " 0.25,\n",
       " 0.5,\n",
       " -0.1625,\n",
       " 0.0,\n",
       " 0.0,\n",
       " -0.125,\n",
       " 0.1666666667,\n",
       " 0.3571428571,\n",
       " 0.0,\n",
       " 0.0,\n",
       " -0.25,\n",
       " 0.0,\n",
       " 0.0,\n",
       " 0.0,\n",
       " 0.0,\n",
       " 0.36666666670000003,\n",
       " 0.0,\n",
       " 0.3571428571,\n",
       " 0.13636363640000002,\n",
       " -0.3333333333,\n",
       " 0.0,\n",
       " -0.20833333329999998,\n",
       " 0.0,\n",
       " 0.0,\n",
       " 0.0,\n",
       " -0.1625,\n",
       " -0.4,\n",
       " -0.5,\n",
       " 0.36666666670000003,\n",
       " -0.35,\n",
       " -0.1666666667,\n",
       " 0.0,\n",
       " -0.3333333333,\n",
       " -0.3,\n",
       " -0.4,\n",
       " 0.0,\n",
       " -0.5,\n",
       " 0.0,\n",
       " 0.13636363640000002,\n",
       " 0.0,\n",
       " 0.5,\n",
       " 0.75,\n",
       " 0.0,\n",
       " 0.13636363640000002,\n",
       " 0.0,\n",
       " 0.0,\n",
       " 0.0,\n",
       " -0.4,\n",
       " -0.0625,\n",
       " 0.0,\n",
       " 0.6,\n",
       " 0.0,\n",
       " 0.1,\n",
       " -0.2824074074,\n",
       " 0.0,\n",
       " 0.0,\n",
       " 0.0,\n",
       " 0.0,\n",
       " 0.5,\n",
       " 0.0,\n",
       " 0.1,\n",
       " -0.5,\n",
       " 0.0,\n",
       " 0.0,\n",
       " 0.0,\n",
       " 0.5,\n",
       " 0.1892857143,\n",
       " 0.0,\n",
       " -0.7142857143000001,\n",
       " -0.15,\n",
       " -0.040625,\n",
       " 0.0,\n",
       " 0.0,\n",
       " 0.0,\n",
       " -0.4,\n",
       " -0.4583333333,\n",
       " 0.0,\n",
       " 0.2,\n",
       " 0.1,\n",
       " 0.0,\n",
       " 0.05,\n",
       " -0.5,\n",
       " 0.0,\n",
       " 0.0,\n",
       " -0.1625,\n",
       " -0.3528571429,\n",
       " 0.0,\n",
       " -0.1625,\n",
       " 0.0,\n",
       " 0.0,\n",
       " 0.5,\n",
       " 0.0,\n",
       " 0.0,\n",
       " 0.0,\n",
       " -0.7,\n",
       " -0.125,\n",
       " 0.0,\n",
       " 0.0,\n",
       " -0.1555555556,\n",
       " 0.0,\n",
       " 0.5,\n",
       " 0.05,\n",
       " -0.1625,\n",
       " 0.06666666667,\n",
       " 0.0,\n",
       " -0.35,\n",
       " 0.375,\n",
       " 0.0,\n",
       " -0.5,\n",
       " -0.3528571429,\n",
       " 0.0,\n",
       " 0.0,\n",
       " -0.4,\n",
       " 0.0,\n",
       " 0.0,\n",
       " -0.4,\n",
       " 0.0,\n",
       " 0.0,\n",
       " 0.35,\n",
       " -0.625,\n",
       " 0.0,\n",
       " 0.0,\n",
       " 0.0,\n",
       " 1.0,\n",
       " 0.0,\n",
       " 0.8,\n",
       " 0.0,\n",
       " 0.0,\n",
       " 0.0,\n",
       " -0.5,\n",
       " 0.0,\n",
       " -0.49192708329999996,\n",
       " -0.2380952381,\n",
       " 0.0,\n",
       " 0.3571428571,\n",
       " -0.3714285714,\n",
       " -0.125,\n",
       " 0.0,\n",
       " 0.0,\n",
       " 0.0,\n",
       " 0.04722222222,\n",
       " 0.0,\n",
       " 0.25,\n",
       " -0.05,\n",
       " 0.0,\n",
       " -0.5,\n",
       " -0.05,\n",
       " -0.5,\n",
       " 0.0,\n",
       " 0.5,\n",
       " -0.2,\n",
       " 0.0,\n",
       " -0.35,\n",
       " 0.0,\n",
       " 0.0,\n",
       " 0.0,\n",
       " 0.2886363636,\n",
       " -0.1625,\n",
       " 0.0,\n",
       " 0.0,\n",
       " 0.0,\n",
       " 0.7,\n",
       " -0.4,\n",
       " 0.0,\n",
       " 0.0,\n",
       " 0.32,\n",
       " -0.0625,\n",
       " -0.4222222222,\n",
       " 0.0,\n",
       " 0.04722222222,\n",
       " -0.35,\n",
       " -0.35,\n",
       " 0.0,\n",
       " 0.3333333333,\n",
       " 0.2,\n",
       " 0.6,\n",
       " 0.0,\n",
       " 0.0,\n",
       " -0.1666666667,\n",
       " 0.0,\n",
       " 0.0,\n",
       " 0.0,\n",
       " 0.0,\n",
       " 0.0,\n",
       " -0.0625,\n",
       " 0.0,\n",
       " 0.0,\n",
       " 0.0175,\n",
       " 0.0,\n",
       " 0.0,\n",
       " -0.5,\n",
       " 0.05,\n",
       " -0.2,\n",
       " 0.0,\n",
       " 0.0,\n",
       " -0.30625,\n",
       " 0.0,\n",
       " -0.5,\n",
       " -0.05,\n",
       " 0.0,\n",
       " 0.0,\n",
       " 0.3571428571,\n",
       " 0.13636363640000002,\n",
       " -0.0625,\n",
       " 1.0,\n",
       " 0.3619047619,\n",
       " -0.4,\n",
       " 0.0,\n",
       " 0.0,\n",
       " 0.0,\n",
       " -0.5,\n",
       " 0.0,\n",
       " 0.6,\n",
       " 0.0,\n",
       " -0.1625,\n",
       " 0.0,\n",
       " -0.3,\n",
       " 0.0,\n",
       " 0.5,\n",
       " -0.6,\n",
       " 0.215625,\n",
       " 0.0,\n",
       " 0.6,\n",
       " -0.125,\n",
       " -0.0625,\n",
       " 0.1463888889,\n",
       " 0.0,\n",
       " 0.35,\n",
       " -0.4,\n",
       " -0.4,\n",
       " 0.0,\n",
       " -0.3333333333,\n",
       " -0.1625,\n",
       " 0.0,\n",
       " 0.0,\n",
       " -0.3333333333,\n",
       " -0.1625,\n",
       " 0.0,\n",
       " 0.7,\n",
       " 0.0,\n",
       " 0.0,\n",
       " 0.0,\n",
       " 0.36666666670000003,\n",
       " 0.0,\n",
       " -0.7,\n",
       " 0.0,\n",
       " 0.0,\n",
       " 0.0,\n",
       " 0.0,\n",
       " 0.4,\n",
       " 0.0,\n",
       " -0.5,\n",
       " 0.5,\n",
       " -0.03333333333,\n",
       " 0.0,\n",
       " 0.0,\n",
       " 0.0,\n",
       " 0.0,\n",
       " ...]"
      ]
     },
     "execution_count": 153,
     "metadata": {},
     "output_type": "execute_result"
    }
   ],
   "source": [
    "Sentiments"
   ]
  },
  {
   "cell_type": "code",
   "execution_count": 154,
   "metadata": {},
   "outputs": [],
   "source": [
    "for i in range(len(Sentiments)):\n",
    "    if(Sentiments[i] < 0):\n",
    "        Sentiments[i] = -1\n",
    "    elif(Sentiments[i] > 0):\n",
    "        Sentiments[i] = 1  \n",
    "    else:\n",
    "        Sentiments[i] = 0"
   ]
  },
  {
   "cell_type": "code",
   "execution_count": 155,
   "metadata": {},
   "outputs": [
    {
     "data": {
      "text/plain": [
       "'X= Texts\\ny= Sentiments\\n'"
      ]
     },
     "execution_count": 155,
     "metadata": {},
     "output_type": "execute_result"
    }
   ],
   "source": [
    "'''X= Texts\n",
    "y= Sentiments\n",
    "'''"
   ]
  },
  {
   "cell_type": "code",
   "execution_count": 156,
   "metadata": {},
   "outputs": [],
   "source": [
    "def depure_data(data):\n",
    "    url_patttern = re.compile(r'https?://\\S+|www\\.\\S+')\n",
    "    data = url_patttern.sub(r'',data)\n",
    "    \n",
    "    data=re.sub('\\S*@\\S*\\s?','',data)\n",
    "    \n",
    "    data=re.sub(\"\\'\",\"\",data)\n",
    "    \n",
    "    return data\n",
    "    "
   ]
  },
  {
   "cell_type": "code",
   "execution_count": 157,
   "metadata": {},
   "outputs": [],
   "source": [
    "def sent_to_words(sentences):\n",
    "    for sentence in sentences:\n",
    "        yield(gensim.utils.simple_preprocess(str(sentence),deacc=True))"
   ]
  },
  {
   "cell_type": "code",
   "execution_count": 158,
   "metadata": {},
   "outputs": [],
   "source": [
    "def detokenize(text):\n",
    "    return TreebankWordDetokenizer().detokenize(text)"
   ]
  },
  {
   "cell_type": "code",
   "execution_count": 159,
   "metadata": {},
   "outputs": [],
   "source": [
    "temp=[]\n",
    "data_to_list = Texts.values.tolist()"
   ]
  },
  {
   "cell_type": "code",
   "execution_count": 160,
   "metadata": {},
   "outputs": [],
   "source": [
    "for i in range (len(data_to_list)):\n",
    "    temp.append(depure_data(data_to_list[i]))"
   ]
  },
  {
   "cell_type": "code",
   "execution_count": 161,
   "metadata": {},
   "outputs": [],
   "source": [
    "data_words = list(sent_to_words(temp))"
   ]
  },
  {
   "cell_type": "code",
   "execution_count": 162,
   "metadata": {},
   "outputs": [],
   "source": [
    "curr_data = []\n",
    "for i in range(len(data_words)):\n",
    "    curr_data.append(detokenize(data_words[i]))\n",
    "#print(curr_data)"
   ]
  },
  {
   "cell_type": "code",
   "execution_count": 163,
   "metadata": {},
   "outputs": [],
   "source": [
    "X= curr_data\n",
    "y = Sentiments\n"
   ]
  },
  {
   "cell_type": "code",
   "execution_count": 164,
   "metadata": {},
   "outputs": [],
   "source": [
    "s = []\n",
    "for i in range(len(y)):\n",
    "    if(y[i] <= 0):\n",
    "        s.append(0)\n",
    "        \n",
    "    elif(y[i] > 0):\n",
    "        s.append(1)\n",
    "        "
   ]
  },
  {
   "cell_type": "code",
   "execution_count": 165,
   "metadata": {},
   "outputs": [
    {
     "data": {
      "text/plain": [
       "30931"
      ]
     },
     "execution_count": 165,
     "metadata": {},
     "output_type": "execute_result"
    }
   ],
   "source": [
    "len(s)"
   ]
  },
  {
   "cell_type": "code",
   "execution_count": 177,
   "metadata": {},
   "outputs": [],
   "source": [
    "#y"
   ]
  },
  {
   "cell_type": "code",
   "execution_count": 178,
   "metadata": {},
   "outputs": [],
   "source": [
    "#s"
   ]
  },
  {
   "cell_type": "code",
   "execution_count": 168,
   "metadata": {},
   "outputs": [],
   "source": [
    "s= np.array(s)"
   ]
  },
  {
   "cell_type": "code",
   "execution_count": 169,
   "metadata": {},
   "outputs": [],
   "source": [
    "X_train, X_test, y_train, y_test = train_test_split(X, s, test_size=0.2)"
   ]
  },
  {
   "cell_type": "code",
   "execution_count": 179,
   "metadata": {},
   "outputs": [
    {
     "data": {
      "text/plain": [
       "1"
      ]
     },
     "execution_count": 179,
     "metadata": {},
     "output_type": "execute_result"
    }
   ],
   "source": [
    "y_train[1001]"
   ]
  },
  {
   "cell_type": "code",
   "execution_count": 180,
   "metadata": {},
   "outputs": [],
   "source": [
    "tokenizer = Tokenizer(num_words=10000)\n",
    "tokenizer.fit_on_texts(X_train)\n",
    "\n",
    "X_train = tokenizer.texts_to_sequences(X_train)\n",
    "X_test = tokenizer.texts_to_sequences(X_test)"
   ]
  },
  {
   "cell_type": "code",
   "execution_count": 181,
   "metadata": {},
   "outputs": [],
   "source": [
    "vocab_size = len(tokenizer.word_index) + 1\n",
    "\n",
    "maxlen = 200\n",
    "\n",
    "X_train = pad_sequences(X_train, padding='post', maxlen=maxlen)\n",
    "X_test = pad_sequences(X_test, padding='post', maxlen=maxlen)"
   ]
  },
  {
   "cell_type": "code",
   "execution_count": 182,
   "metadata": {},
   "outputs": [],
   "source": [
    "from numpy import array\n",
    "from numpy import asarray\n",
    "from numpy import zeros\n",
    "\n",
    "embeddings_dictionary = dict()\n",
    "glove_file = open('./glove.6B.100d.txt', encoding=\"utf8\")\n",
    "\n",
    "for line in glove_file:\n",
    "    records = line.split()\n",
    "    word = records[0]\n",
    "    vector_dimensions = asarray(records[1:], dtype='float32')\n",
    "    embeddings_dictionary [word] = vector_dimensions\n",
    "glove_file.close()"
   ]
  },
  {
   "cell_type": "code",
   "execution_count": 183,
   "metadata": {},
   "outputs": [],
   "source": [
    "embedding_matrix = zeros((vocab_size, 100))\n",
    "for word, index in tokenizer.word_index.items():\n",
    "    embedding_vector = embeddings_dictionary.get(word)\n",
    "    if embedding_vector is not None:\n",
    "        embedding_matrix[index] = embedding_vector"
   ]
  },
  {
   "cell_type": "code",
   "execution_count": 184,
   "metadata": {},
   "outputs": [
    {
     "data": {
      "text/plain": [
       "(24744, 200)"
      ]
     },
     "execution_count": 184,
     "metadata": {},
     "output_type": "execute_result"
    }
   ],
   "source": [
    "X_train.shape"
   ]
  },
  {
   "cell_type": "code",
   "execution_count": 185,
   "metadata": {},
   "outputs": [],
   "source": [
    " #X_train = np.expand_dims(X_train,axis=2)"
   ]
  },
  {
   "cell_type": "code",
   "execution_count": 186,
   "metadata": {},
   "outputs": [
    {
     "data": {
      "text/plain": [
       "(24744, 200)"
      ]
     },
     "execution_count": 186,
     "metadata": {},
     "output_type": "execute_result"
    }
   ],
   "source": [
    "X_train.shape"
   ]
  },
  {
   "cell_type": "code",
   "execution_count": 187,
   "metadata": {},
   "outputs": [],
   "source": [
    "from keras.layers import Dense, Conv1D, Flatten, MaxPooling1D"
   ]
  },
  {
   "cell_type": "code",
   "execution_count": 188,
   "metadata": {},
   "outputs": [],
   "source": [
    "model = Sequential()\n",
    "\n",
    "embedding_layer = Embedding(vocab_size, 100, weights=[embedding_matrix], input_length=maxlen , trainable=False)\n",
    "model.add(embedding_layer)\n",
    "\n",
    "'''model.add(Conv1D(128, 5, activation='relu'))\n",
    "model.add(GlobalMaxPooling1D())\n",
    "model.add(Dense(3, activation='sigmoid'))\n",
    "model.compile(optimizer='adam', loss='mean_squared_error', metrics=['acc'])\n",
    "'''\n",
    "model.add(Flatten())\n",
    "model.add(Dense(1,activation = 'sigmoid'))"
   ]
  },
  {
   "cell_type": "code",
   "execution_count": 189,
   "metadata": {},
   "outputs": [
    {
     "name": "stdout",
     "output_type": "stream",
     "text": [
      "Model: \"sequential_2\"\n",
      "_________________________________________________________________\n",
      "Layer (type)                 Output Shape              Param #   \n",
      "=================================================================\n",
      "embedding_2 (Embedding)      (None, 200, 100)          1483700   \n",
      "_________________________________________________________________\n",
      "flatten_1 (Flatten)          (None, 20000)             0         \n",
      "_________________________________________________________________\n",
      "dense_2 (Dense)              (None, 1)                 20001     \n",
      "=================================================================\n",
      "Total params: 1,503,701\n",
      "Trainable params: 20,001\n",
      "Non-trainable params: 1,483,700\n",
      "_________________________________________________________________\n",
      "None\n"
     ]
    }
   ],
   "source": [
    "model.compile(optimizer='adam', loss='binary_crossentropy', metrics=['acc'])\n",
    "\n",
    "print(model.summary())"
   ]
  },
  {
   "cell_type": "code",
   "execution_count": 193,
   "metadata": {},
   "outputs": [
    {
     "name": "stdout",
     "output_type": "stream",
     "text": [
      "Model: \"sequential_2\"\n",
      "_________________________________________________________________\n",
      "Layer (type)                 Output Shape              Param #   \n",
      "=================================================================\n",
      "embedding_2 (Embedding)      (None, 200, 100)          1483700   \n",
      "_________________________________________________________________\n",
      "flatten_1 (Flatten)          (None, 20000)             0         \n",
      "_________________________________________________________________\n",
      "dense_2 (Dense)              (None, 1)                 20001     \n",
      "=================================================================\n",
      "Total params: 1,503,701\n",
      "Trainable params: 20,001\n",
      "Non-trainable params: 1,483,700\n",
      "_________________________________________________________________\n",
      "None\n"
     ]
    }
   ],
   "source": [
    "print(model.summary())\n"
   ]
  },
  {
   "cell_type": "code",
   "execution_count": 271,
   "metadata": {},
   "outputs": [],
   "source": [
    "from sklearn.tree import DecisionTreeClassifier \n",
    "dtree_model = DecisionTreeClassifier(max_depth = 2).fit(X_train, y_train) \n",
    "dtree_predictions = dtree_model.predict(X_test) \n"
   ]
  },
  {
   "cell_type": "code",
   "execution_count": 272,
   "metadata": {},
   "outputs": [],
   "source": [
    "from sklearn.metrics import confusion_matrix "
   ]
  },
  {
   "cell_type": "code",
   "execution_count": 275,
   "metadata": {},
   "outputs": [],
   "source": [
    "cm = confusion_matrix(y_test, dtree_predictions) "
   ]
  },
  {
   "cell_type": "code",
   "execution_count": 276,
   "metadata": {},
   "outputs": [
    {
     "data": {
      "text/plain": [
       "array([0, 0, 0, ..., 0, 0, 0])"
      ]
     },
     "execution_count": 276,
     "metadata": {},
     "output_type": "execute_result"
    }
   ],
   "source": [
    "dtree_predictions"
   ]
  },
  {
   "cell_type": "code",
   "execution_count": 197,
   "metadata": {},
   "outputs": [
    {
     "name": "stdout",
     "output_type": "stream",
     "text": [
      "Epoch 1/20\n",
      "155/155 [==============================] - 2s 10ms/step - loss: 0.5864 - acc: 0.7380 - val_loss: 0.5783 - val_acc: 0.7444\n",
      "Epoch 2/20\n",
      "155/155 [==============================] - 2s 12ms/step - loss: 0.5706 - acc: 0.7417 - val_loss: 0.5797 - val_acc: 0.7482\n",
      "Epoch 3/20\n",
      "155/155 [==============================] - 2s 12ms/step - loss: 0.5629 - acc: 0.7441 - val_loss: 0.5819 - val_acc: 0.7480\n",
      "Epoch 4/20\n",
      "155/155 [==============================] - 2s 12ms/step - loss: 0.5559 - acc: 0.7464 - val_loss: 0.5817 - val_acc: 0.7444\n",
      "Epoch 5/20\n",
      "155/155 [==============================] - 2s 12ms/step - loss: 0.5514 - acc: 0.7482 - val_loss: 0.5841 - val_acc: 0.7462\n",
      "Epoch 6/20\n",
      "155/155 [==============================] - 2s 11ms/step - loss: 0.5467 - acc: 0.7498 - val_loss: 0.6002 - val_acc: 0.7298\n",
      "Epoch 7/20\n",
      "155/155 [==============================] - 1s 9ms/step - loss: 0.5439 - acc: 0.7511 - val_loss: 0.5945 - val_acc: 0.7349\n",
      "Epoch 8/20\n",
      "155/155 [==============================] - 2s 10ms/step - loss: 0.5417 - acc: 0.7533 - val_loss: 0.5933 - val_acc: 0.7450\n",
      "Epoch 9/20\n",
      "155/155 [==============================] - 2s 12ms/step - loss: 0.5383 - acc: 0.7545 - val_loss: 0.5980 - val_acc: 0.7416\n",
      "Epoch 10/20\n",
      "155/155 [==============================] - 2s 11ms/step - loss: 0.5383 - acc: 0.7543 - val_loss: 0.6018 - val_acc: 0.7339\n",
      "Epoch 11/20\n",
      "155/155 [==============================] - 2s 12ms/step - loss: 0.5350 - acc: 0.7559 - val_loss: 0.5987 - val_acc: 0.7351\n",
      "Epoch 12/20\n",
      "155/155 [==============================] - 2s 11ms/step - loss: 0.5339 - acc: 0.7572 - val_loss: 0.6009 - val_acc: 0.7365\n",
      "Epoch 13/20\n",
      "155/155 [==============================] - 2s 12ms/step - loss: 0.5312 - acc: 0.7584 - val_loss: 0.6042 - val_acc: 0.7379\n",
      "Epoch 14/20\n",
      "155/155 [==============================] - 2s 12ms/step - loss: 0.5290 - acc: 0.7592 - val_loss: 0.6046 - val_acc: 0.7369\n",
      "Epoch 15/20\n",
      "155/155 [==============================] - 2s 12ms/step - loss: 0.5281 - acc: 0.7600 - val_loss: 0.6079 - val_acc: 0.7416\n",
      "Epoch 16/20\n",
      "155/155 [==============================] - 2s 12ms/step - loss: 0.5261 - acc: 0.7601 - val_loss: 0.6072 - val_acc: 0.7327\n",
      "Epoch 17/20\n",
      "155/155 [==============================] - 2s 12ms/step - loss: 0.5259 - acc: 0.7611 - val_loss: 0.6131 - val_acc: 0.7353\n",
      "Epoch 18/20\n",
      "155/155 [==============================] - 2s 12ms/step - loss: 0.5242 - acc: 0.7606 - val_loss: 0.6176 - val_acc: 0.7232\n",
      "Epoch 19/20\n",
      "155/155 [==============================] - 2s 12ms/step - loss: 0.5228 - acc: 0.7630 - val_loss: 0.6147 - val_acc: 0.7300\n",
      "Epoch 20/20\n",
      "155/155 [==============================] - 2s 12ms/step - loss: 0.5233 - acc: 0.7619 - val_loss: 0.6204 - val_acc: 0.7377\n"
     ]
    }
   ],
   "source": [
    "history = model.fit(X_train, y_train, batch_size=128, epochs=20, verbose=1,validation_split=0.2)\n",
    "\n"
   ]
  },
  {
   "cell_type": "code",
   "execution_count": null,
   "metadata": {},
   "outputs": [],
   "source": []
  },
  {
   "cell_type": "code",
   "execution_count": 198,
   "metadata": {},
   "outputs": [
    {
     "name": "stdout",
     "output_type": "stream",
     "text": [
      "194/194 [==============================] - 1s 3ms/step - loss: 0.6268 - acc: 0.7278\n"
     ]
    }
   ],
   "source": [
    "score = model.evaluate(X_test, y_test, verbose=1)"
   ]
  },
  {
   "cell_type": "code",
   "execution_count": 199,
   "metadata": {},
   "outputs": [
    {
     "name": "stdout",
     "output_type": "stream",
     "text": [
      "Test Score: 0.6267801523208618\n",
      "Test Accuracy: 0.7278164029121399\n"
     ]
    }
   ],
   "source": [
    "print(\"Test Score:\", score[0])\n",
    "print(\"Test Accuracy:\", score[1])"
   ]
  },
  {
   "cell_type": "code",
   "execution_count": 200,
   "metadata": {},
   "outputs": [
    {
     "data": {
      "image/png": "[encoded data removed]",
      "text/plain": [
       "<Figure size 432x288 with 1 Axes>"
      ]
     },
     "metadata": {
      "needs_background": "light"
     },
     "output_type": "display_data"
    },
    {
     "data": {
      "image/png": "[encoded data removed]",
      "text/plain": [
       "<Figure size 432x288 with 1 Axes>"
      ]
     },
     "metadata": {
      "needs_background": "light"
     },
     "output_type": "display_data"
    }
   ],
   "source": [
    "import matplotlib.pyplot as plt\n",
    "\n",
    "plt.plot(history.history['acc'])\n",
    "plt.plot(history.history['val_acc'])\n",
    "\n",
    "plt.title('model accuracy')\n",
    "plt.ylabel('accuracy')\n",
    "plt.xlabel('epoch')\n",
    "plt.legend(['train','test'], loc='upper left')\n",
    "plt.show()\n",
    "\n",
    "plt.plot(history.history['loss'])\n",
    "plt.plot(history.history['val_loss'])\n",
    "\n",
    "plt.title('model loss')\n",
    "plt.ylabel('loss')\n",
    "plt.xlabel('epoch')\n",
    "plt.legend(['train','test'], loc='upper left')\n",
    "plt.show()"
   ]
  },
  {
   "cell_type": "code",
   "execution_count": 201,
   "metadata": {},
   "outputs": [],
   "source": [
    "# Using CNN"
   ]
  },
  {
   "cell_type": "code",
   "execution_count": 202,
   "metadata": {},
   "outputs": [],
   "source": [
    "model_2 = Sequential()\n",
    "\n",
    "embedding_layer = Embedding(vocab_size, 100, weights=[embedding_matrix], input_length=maxlen , trainable=False)\n",
    "model_2.add(embedding_layer)\n",
    "\n",
    "model_2.add(Conv1D(128, 5, activation='relu'))\n",
    "model_2.add(GlobalMaxPooling1D())\n",
    "model_2.add(Dense(1, activation='sigmoid'))\n",
    "model_2.compile(optimizer='adam', loss='binary_crossentropy', metrics=['acc'])"
   ]
  },
  {
   "cell_type": "code",
   "execution_count": 203,
   "metadata": {},
   "outputs": [
    {
     "name": "stdout",
     "output_type": "stream",
     "text": [
      "Model: \"sequential_3\"\n",
      "_________________________________________________________________\n",
      "Layer (type)                 Output Shape              Param #   \n",
      "=================================================================\n",
      "embedding_3 (Embedding)      (None, 200, 100)          1483700   \n",
      "_________________________________________________________________\n",
      "conv1d_1 (Conv1D)            (None, 196, 128)          64128     \n",
      "_________________________________________________________________\n",
      "global_max_pooling1d_1 (Glob (None, 128)               0         \n",
      "_________________________________________________________________\n",
      "dense_3 (Dense)              (None, 1)                 129       \n",
      "=================================================================\n",
      "Total params: 1,547,957\n",
      "Trainable params: 64,257\n",
      "Non-trainable params: 1,483,700\n",
      "_________________________________________________________________\n",
      "None\n"
     ]
    }
   ],
   "source": [
    "print(model_2.summary())"
   ]
  },
  {
   "cell_type": "code",
   "execution_count": 269,
   "metadata": {},
   "outputs": [
    {
     "name": "stdout",
     "output_type": "stream",
     "text": [
      "Epoch 1/20\n",
      "155/155 [==============================] - 15s 97ms/step - loss: 0.5072 - acc: 0.7708 - val_loss: 0.5988 - val_acc: 0.7410\n",
      "Epoch 2/20\n",
      "155/155 [==============================] - 15s 99ms/step - loss: 0.4990 - acc: 0.7774 - val_loss: 0.6085 - val_acc: 0.7309\n",
      "Epoch 3/20\n",
      "155/155 [==============================] - 15s 99ms/step - loss: 0.4962 - acc: 0.7817 - val_loss: 0.6075 - val_acc: 0.7426\n",
      "Epoch 4/20\n",
      "155/155 [==============================] - 16s 101ms/step - loss: 0.4973 - acc: 0.7797 - val_loss: 0.6100 - val_acc: 0.7236\n",
      "Epoch 5/20\n",
      "155/155 [==============================] - 15s 100ms/step - loss: 0.4845 - acc: 0.7871 - val_loss: 0.6160 - val_acc: 0.7086\n",
      "Epoch 6/20\n",
      "155/155 [==============================] - 15s 98ms/step - loss: 0.4755 - acc: 0.7932 - val_loss: 0.6247 - val_acc: 0.7260\n",
      "Epoch 7/20\n",
      "155/155 [==============================] - 15s 100ms/step - loss: 0.4730 - acc: 0.7952 - val_loss: 0.6182 - val_acc: 0.7260\n",
      "Epoch 8/20\n",
      "155/155 [==============================] - 15s 97ms/step - loss: 0.4689 - acc: 0.7963 - val_loss: 0.6529 - val_acc: 0.7436\n",
      "Epoch 9/20\n",
      "155/155 [==============================] - 15s 100ms/step - loss: 0.4633 - acc: 0.8025 - val_loss: 0.6441 - val_acc: 0.6874\n",
      "Epoch 10/20\n",
      "155/155 [==============================] - 15s 97ms/step - loss: 0.4581 - acc: 0.8037 - val_loss: 0.6297 - val_acc: 0.7313\n",
      "Epoch 11/20\n",
      "155/155 [==============================] - 16s 100ms/step - loss: 0.4508 - acc: 0.8061 - val_loss: 0.6713 - val_acc: 0.7327\n",
      "Epoch 12/20\n",
      "155/155 [==============================] - 16s 100ms/step - loss: 0.4533 - acc: 0.8050 - val_loss: 0.6571 - val_acc: 0.7363\n",
      "Epoch 13/20\n",
      "155/155 [==============================] - 15s 99ms/step - loss: 0.4569 - acc: 0.8029 - val_loss: 0.6569 - val_acc: 0.7084\n",
      "Epoch 14/20\n",
      "155/155 [==============================] - 15s 100ms/step - loss: 0.4499 - acc: 0.8079 - val_loss: 0.6420 - val_acc: 0.7163\n",
      "Epoch 15/20\n",
      "155/155 [==============================] - 16s 100ms/step - loss: 0.4461 - acc: 0.8085 - val_loss: 0.6507 - val_acc: 0.7242\n",
      "Epoch 16/20\n",
      "155/155 [==============================] - 16s 100ms/step - loss: 0.4437 - acc: 0.8087 - val_loss: 0.6587 - val_acc: 0.6864\n",
      "Epoch 17/20\n",
      "155/155 [==============================] - 16s 100ms/step - loss: 0.4415 - acc: 0.8101 - val_loss: 0.6675 - val_acc: 0.6811\n",
      "Epoch 18/20\n",
      "155/155 [==============================] - 15s 97ms/step - loss: 0.4352 - acc: 0.8127 - val_loss: 0.6720 - val_acc: 0.7016\n",
      "Epoch 19/20\n",
      "155/155 [==============================] - 15s 99ms/step - loss: 0.4367 - acc: 0.8110 - val_loss: 0.7120 - val_acc: 0.6015\n",
      "Epoch 20/20\n",
      "155/155 [==============================] - 16s 101ms/step - loss: 0.4371 - acc: 0.8125 - val_loss: 0.6578 - val_acc: 0.7072\n",
      "194/194 [==============================] - 2s 9ms/step - loss: 0.6571 - acc: 0.7018\n"
     ]
    }
   ],
   "source": [
    "history_2 = model_2.fit(X_train, y_train, batch_size=128, epochs=20, verbose=1, validation_split=0.2)\n",
    "\n",
    "score = model_2.evaluate(X_test, y_test, verbose=1)"
   ]
  },
  {
   "cell_type": "code",
   "execution_count": 270,
   "metadata": {},
   "outputs": [
    {
     "data": {
      "image/png": "[encoded data removed]",
      "text/plain": [
       "<Figure size 432x288 with 1 Axes>"
      ]
     },
     "metadata": {
      "needs_background": "light"
     },
     "output_type": "display_data"
    },
    {
     "data": {
      "image/png": "[encoded data removed]",
      "text/plain": [
       "<Figure size 432x288 with 1 Axes>"
      ]
     },
     "metadata": {
      "needs_background": "light"
     },
     "output_type": "display_data"
    }
   ],
   "source": [
    "import matplotlib.pyplot as plt\n",
    "\n",
    "plt.plot(history_2.history['acc'])\n",
    "plt.plot(history_2.history['val_acc'])\n",
    "\n",
    "plt.title('model accuracy')\n",
    "plt.ylabel('accuracy')\n",
    "plt.xlabel('epoch')\n",
    "plt.legend(['train','test'], loc='upper left')\n",
    "plt.show()\n",
    "\n",
    "plt.plot(history_2.history['loss'])\n",
    "plt.plot(history_2.history['val_loss'])\n",
    "\n",
    "plt.title('model loss')\n",
    "plt.ylabel('loss')\n",
    "plt.xlabel('epoch')\n",
    "plt.legend(['train','test'], loc='upper left')\n",
    "plt.show()"
   ]
  },
  {
   "cell_type": "code",
   "execution_count": 220,
   "metadata": {},
   "outputs": [],
   "source": [
    "import random"
   ]
  },
  {
   "cell_type": "code",
   "execution_count": 266,
   "metadata": {},
   "outputs": [
    {
     "name": "stdout",
     "output_type": "stream",
     "text": [
      " This is positive\n"
     ]
    }
   ],
   "source": [
    "i = random.randint(1,8000)\n",
    "instance = \" This is positive\"\n",
    "print(instance)\n"
   ]
  },
  {
   "cell_type": "code",
   "execution_count": null,
   "metadata": {},
   "outputs": [],
   "source": []
  },
  {
   "cell_type": "code",
   "execution_count": 267,
   "metadata": {},
   "outputs": [],
   "source": [
    "instance = tokenizer.texts_to_sequences(instance)\n",
    "\n",
    "flat_list = []\n",
    "for sublist in instance:\n",
    "    for item in sublist:\n",
    "        flat_list.append(item)\n",
    "\n",
    "flat_list = [flat_list]\n",
    "\n",
    "instance = pad_sequences(flat_list, padding='post', maxlen=200)\n",
    "\n",
    "ans = model_2.predict(instance)"
   ]
  },
  {
   "cell_type": "code",
   "execution_count": 268,
   "metadata": {},
   "outputs": [
    {
     "name": "stdout",
     "output_type": "stream",
     "text": [
      "[[46.228294]]\n"
     ]
    }
   ],
   "source": [
    "#print(score[0])\n",
    "#print(score[1])\n",
    "print(ans*100)"
   ]
  },
  {
   "cell_type": "code",
   "execution_count": null,
   "metadata": {},
   "outputs": [],
   "source": []
  },
  {
   "cell_type": "code",
   "execution_count": 93,
   "metadata": {},
   "outputs": [
    {
     "data": {
      "text/plain": [
       "'max_words = 35000\\nmax_len = 300\\ntokenizer = Tokenizer(num_words=max_words)\\ntokenizer.fit_on_texts(curr_data)\\nsequences = tokenizer.texts_to_sequences(curr_data)\\ntweets = pad_sequences(sequences, maxlen=max_len)\\nprint(tweets)\\n'"
      ]
     },
     "execution_count": 93,
     "metadata": {},
     "output_type": "execute_result"
    }
   ],
   "source": [
    "'''max_words = 35000\n",
    "max_len = 300\n",
    "tokenizer = Tokenizer(num_words=max_words)\n",
    "tokenizer.fit_on_texts(curr_data)\n",
    "sequences = tokenizer.texts_to_sequences(curr_data)\n",
    "tweets = pad_sequences(sequences, maxlen=max_len)\n",
    "print(tweets)\n",
    "'''"
   ]
  },
  {
   "cell_type": "code",
   "execution_count": 113,
   "metadata": {},
   "outputs": [
    {
     "data": {
      "text/plain": [
       "'from keras.layers import Embedding\\nembedding_layer = Embedding(1000, 64)\\n'"
      ]
     },
     "execution_count": 113,
     "metadata": {},
     "output_type": "execute_result"
    }
   ],
   "source": [
    "'''from keras.layers import Embedding\n",
    "embedding_layer = Embedding(1000, 64)\n",
    "'''"
   ]
  },
  {
   "cell_type": "code",
   "execution_count": 114,
   "metadata": {},
   "outputs": [
    {
     "data": {
      "text/plain": [
       "\"from keras.models import Sequential\\nfrom keras import layers\\nfrom keras import regularizers\\nfrom keras import backend as K\\nfrom keras.callbacks import ModelCheckpoint\\n\\nmodel1 = Sequential()\\nmodel1.add(layers.Embedding(max_words, 20)) #The embedding layer\\nmodel1.add(layers.LSTM(15,dropout=0.5)) #Our LSTM layer\\nmodel1.add(layers.Dense(3,activation='softmax'))\\n\""
      ]
     },
     "execution_count": 114,
     "metadata": {},
     "output_type": "execute_result"
    }
   ],
   "source": [
    "'''from keras.models import Sequential\n",
    "from keras import layers\n",
    "from keras import regularizers\n",
    "from keras import backend as K\n",
    "from keras.callbacks import ModelCheckpoint\n",
    "\n",
    "model1 = Sequential()\n",
    "model1.add(layers.Embedding(max_words, 20)) #The embedding layer\n",
    "model1.add(layers.LSTM(15,dropout=0.5)) #Our LSTM layer\n",
    "model1.add(layers.Dense(3,activation='softmax'))\n",
    "'''\n",
    "\n",
    "\n"
   ]
  },
  {
   "cell_type": "code",
   "execution_count": 115,
   "metadata": {},
   "outputs": [],
   "source": [
    "#model1.summary()"
   ]
  },
  {
   "cell_type": "code",
   "execution_count": 118,
   "metadata": {},
   "outputs": [],
   "source": [
    "#model1.compile(optimizer='rmsprop',loss='categorical_crossentropy', metrics=['accuracy'])"
   ]
  },
  {
   "cell_type": "code",
   "execution_count": 119,
   "metadata": {},
   "outputs": [
    {
     "data": {
      "text/plain": [
       "'checkpoint1 = ModelCheckpoint(\"DataSet-MajorProject/best_model1.hdf5\", monitor=\\'val_accuracy\\',\\n                              verbose=1,save_best_only=True, mode=\\'auto\\', save_freq=1,save_weights_only=False)'"
      ]
     },
     "execution_count": 119,
     "metadata": {},
     "output_type": "execute_result"
    }
   ],
   "source": [
    "'''checkpoint1 = ModelCheckpoint(\"DataSet-MajorProject/best_model1.hdf5\", monitor='val_accuracy',\n",
    "                              verbose=1,save_best_only=True, mode='auto', save_freq=1,save_weights_only=False)'''"
   ]
  },
  {
   "cell_type": "code",
   "execution_count": 121,
   "metadata": {},
   "outputs": [
    {
     "data": {
      "text/plain": [
       "'tokenizer = Tokenizer()\\n# fit the tokenizer on the documents\\ntokenizer.fit_on_texts(curr_data)\\n'"
      ]
     },
     "execution_count": 121,
     "metadata": {},
     "output_type": "execute_result"
    }
   ],
   "source": [
    "# create the tokenizer\n",
    "'''tokenizer = Tokenizer()\n",
    "# fit the tokenizer on the documents\n",
    "tokenizer.fit_on_texts(curr_data)\n",
    "'''\n"
   ]
  },
  {
   "cell_type": "code",
   "execution_count": 122,
   "metadata": {},
   "outputs": [],
   "source": [
    "#sequence encode\n",
    "#encoded_docs = tokenizer.texts_to_sequences(curr_data)"
   ]
  },
  {
   "cell_type": "code",
   "execution_count": 123,
   "metadata": {},
   "outputs": [],
   "source": [
    "#max_length = max([len(s.split()) for s in curr_data])"
   ]
  },
  {
   "cell_type": "code",
   "execution_count": 124,
   "metadata": {},
   "outputs": [],
   "source": [
    "#max_length"
   ]
  },
  {
   "cell_type": "code",
   "execution_count": 125,
   "metadata": {},
   "outputs": [],
   "source": [
    "#Xtrain = pad_sequences(encoded_docs, maxlen=max_length, padding='post')\n"
   ]
  },
  {
   "cell_type": "code",
   "execution_count": 126,
   "metadata": {},
   "outputs": [],
   "source": [
    "#y = Sentiments"
   ]
  },
  {
   "cell_type": "code",
   "execution_count": 127,
   "metadata": {},
   "outputs": [],
   "source": [
    "#y = np.array(y)"
   ]
  },
  {
   "cell_type": "code",
   "execution_count": 128,
   "metadata": {},
   "outputs": [],
   "source": [
    "#train_length = 0.8 *len(y)\n",
    "#test_length = 0.2* len(y)"
   ]
  },
  {
   "cell_type": "code",
   "execution_count": 129,
   "metadata": {},
   "outputs": [],
   "source": [
    "#train_length= int( train_length)\n",
    "#test_length = int(test_length) + 1"
   ]
  },
  {
   "cell_type": "code",
   "execution_count": 130,
   "metadata": {},
   "outputs": [],
   "source": [
    "#copy = y\n",
    "#y_train=[]"
   ]
  },
  {
   "cell_type": "code",
   "execution_count": 131,
   "metadata": {},
   "outputs": [],
   "source": [
    "#for i in range(0, train_length):\n",
    "#    y_train.append(copy[i])\n",
    "    "
   ]
  },
  {
   "cell_type": "code",
   "execution_count": 132,
   "metadata": {},
   "outputs": [],
   "source": [
    "#y_test=[]"
   ]
  },
  {
   "cell_type": "code",
   "execution_count": 133,
   "metadata": {},
   "outputs": [],
   "source": [
    "#x = y.size\n",
    "#x"
   ]
  },
  {
   "cell_type": "code",
   "execution_count": 134,
   "metadata": {},
   "outputs": [],
   "source": [
    "#for i in range(train_length+1,x):\n",
    " #   y_test.append(copy[i])"
   ]
  },
  {
   "cell_type": "code",
   "execution_count": 135,
   "metadata": {},
   "outputs": [],
   "source": [
    "#y_train"
   ]
  },
  {
   "cell_type": "code",
   "execution_count": 136,
   "metadata": {},
   "outputs": [],
   "source": [
    "#y.size"
   ]
  },
  {
   "cell_type": "code",
   "execution_count": 137,
   "metadata": {},
   "outputs": [],
   "source": [
    "#len(y_test)"
   ]
  },
  {
   "cell_type": "code",
   "execution_count": 138,
   "metadata": {},
   "outputs": [],
   "source": [
    "#y_test.append(-1)"
   ]
  },
  {
   "cell_type": "code",
   "execution_count": 139,
   "metadata": {},
   "outputs": [],
   "source": [
    "#len(y_train)"
   ]
  },
  {
   "cell_type": "code",
   "execution_count": 140,
   "metadata": {},
   "outputs": [],
   "source": [
    "#Xtest = pad_sequences(encoded_docs, maxlen=max_length, padding='post')"
   ]
  },
  {
   "cell_type": "code",
   "execution_count": 141,
   "metadata": {},
   "outputs": [],
   "source": [
    "#history = model1.fit(Xtrain, y_train, epochs=70,validation_data=(Xtest, y_test),callbacks=[checkpoint1])"
   ]
  },
  {
   "cell_type": "code",
   "execution_count": 142,
   "metadata": {},
   "outputs": [],
   "source": [
    "#type(Xtrain)"
   ]
  },
  {
   "cell_type": "code",
   "execution_count": null,
   "metadata": {},
   "outputs": [],
   "source": []
  },
  {
   "cell_type": "code",
   "execution_count": null,
   "metadata": {},
   "outputs": [],
   "source": []
  }
 ],
 "metadata": {
  "kernelspec": {
   "display_name": "Python 3",
   "language": "python",
   "name": "python3"
  },
  "language_info": {
   "codemirror_mode": {
    "name": "ipython",
    "version": 3
   },
   "file_extension": ".py",
   "mimetype": "text/x-python",
   "name": "python",
   "nbconvert_exporter": "python",
   "pygments_lexer": "ipython3",
   "version": "3.6.9"
  }
 },
 "nbformat": 4,
 "nbformat_minor": 4
}
